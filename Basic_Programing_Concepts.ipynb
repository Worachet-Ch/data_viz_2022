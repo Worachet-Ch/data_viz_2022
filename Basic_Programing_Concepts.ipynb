{
  "nbformat": 4,
  "nbformat_minor": 0,
  "metadata": {
    "colab": {
      "name": "Basic Programing Concepts.ipynb",
      "provenance": [],
      "include_colab_link": true
    },
    "kernelspec": {
      "name": "python3",
      "display_name": "Python 3"
    },
    "language_info": {
      "name": "python"
    }
  },
  "cells": [
    {
      "cell_type": "markdown",
      "metadata": {
        "id": "view-in-github",
        "colab_type": "text"
      },
      "source": [
        "<a href=\"https://colab.research.google.com/github/Worachet-Ch/data_viz_2022/blob/main/Basic_Programing_Concepts.ipynb\" target=\"_parent\"><img src=\"https://colab.research.google.com/assets/colab-badge.svg\" alt=\"Open In Colab\"/></a>"
      ]
    },
    {
      "cell_type": "markdown",
      "source": [
        "# Function ($f(x) = y$)"
      ],
      "metadata": {
        "id": "2BbKvS6WDe8J"
      }
    },
    {
      "cell_type": "markdown",
      "source": [
        "```python\n",
        "def function (inputx):\n",
        "    #do someting with input_x to get output_y\n",
        "    return output_y\n",
        "```"
      ],
      "metadata": {
        "id": "Sn-fSlpdEEaf"
      }
    },
    {
      "cell_type": "markdown",
      "source": [
        "$f_1(x) = x^2 + 75$"
      ],
      "metadata": {
        "id": "l9_05SaVFygG"
      }
    },
    {
      "cell_type": "code",
      "source": [
        "def function_f1(x):\n",
        "    a = x**2\n",
        "    y = a + 75\n",
        "    return y\n",
        "\n",
        "print('done!')  "
      ],
      "metadata": {
        "colab": {
          "base_uri": "https://localhost:8080/"
        },
        "id": "tt_SAdCrD_BL",
        "outputId": "22873602-129a-4e32-c080-296986de95a0"
      },
      "execution_count": null,
      "outputs": [
        {
          "output_type": "stream",
          "name": "stdout",
          "text": [
            "done!\n"
          ]
        }
      ]
    },
    {
      "cell_type": "code",
      "source": [
        "function_f1(3)"
      ],
      "metadata": {
        "colab": {
          "base_uri": "https://localhost:8080/"
        },
        "id": "GS_jp2sJD_xW",
        "outputId": "4cd58197-0408-4e7d-d35e-76b0beba60e1"
      },
      "execution_count": null,
      "outputs": [
        {
          "output_type": "execute_result",
          "data": {
            "text/plain": [
              "84"
            ]
          },
          "metadata": {},
          "execution_count": 11
        }
      ]
    },
    {
      "cell_type": "markdown",
      "source": [
        "function มีส่วนสำคัญทั้งหมด 4 ส่วน\n",
        "\n",
        "1. บอก python ว่าเราจะเขียนฟังก์ชั่น ชื่ออะไร def function_name() : (ขาดไม่ได้)\n",
        "2. กำหนดตัวแปรที่จะเป็น input $input$:(ขาดได้)\n",
        "3. ส่วนประมวลผล do_something with input to get Output (ขาดไม่ได้)\n",
        "4. ส่วน output return Output (ขาดไม่ได้)\n",
        "\n"
      ],
      "metadata": {
        "id": "essNhwitHPzy"
      }
    },
    {
      "cell_type": "markdown",
      "source": [
        "### function ที่มีส่วนประกอบ"
      ],
      "metadata": {
        "id": "PPfpR4xSH6Hc"
      }
    },
    {
      "cell_type": "code",
      "source": [
        "def function_f1(x):\n",
        "    a = x**2\n",
        "    y = a + 75\n",
        "    return y"
      ],
      "metadata": {
        "id": "ShaaYFQ_EDI7"
      },
      "execution_count": null,
      "outputs": []
    },
    {
      "cell_type": "markdown",
      "source": [
        "### ตัวอย่าง function ที่ไม่มี input"
      ],
      "metadata": {
        "id": "HHM8pu49ISw3"
      }
    },
    {
      "cell_type": "code",
      "source": [
        "def pi_v():\n",
        "  y = 3.14529265359\n",
        "  return y\n",
        "  "
      ],
      "metadata": {
        "id": "aTyThzs1EC-7"
      },
      "execution_count": null,
      "outputs": []
    },
    {
      "cell_type": "code",
      "source": [
        "piv = pi_v\n",
        "cricle_area_r2 = piv()*(2**2)\n",
        "print(cricle_area_r2)"
      ],
      "metadata": {
        "colab": {
          "base_uri": "https://localhost:8080/"
        },
        "id": "CyCo2XWXD_Qx",
        "outputId": "917b08a9-e296-400f-b0e2-134aba4c3e38"
      },
      "execution_count": null,
      "outputs": [
        {
          "output_type": "stream",
          "name": "stdout",
          "text": [
            "12.58117061436\n"
          ]
        }
      ]
    },
    {
      "cell_type": "markdown",
      "source": [
        "### Function ไม่มี process ไม่ได้"
      ],
      "metadata": {
        "id": "FfPDMiaLJMO9"
      }
    },
    {
      "cell_type": "code",
      "source": [
        "def function a():"
      ],
      "metadata": {
        "colab": {
          "base_uri": "https://localhost:8080/",
          "height": 131
        },
        "id": "eJblUgEBJL3b",
        "outputId": "47351c23-6704-41ca-e645-f3f4703b58ad"
      },
      "execution_count": null,
      "outputs": [
        {
          "output_type": "error",
          "ename": "SyntaxError",
          "evalue": "ignored",
          "traceback": [
            "\u001b[0;36m  File \u001b[0;32m\"<ipython-input-15-f7fdbaa93f42>\"\u001b[0;36m, line \u001b[0;32m1\u001b[0m\n\u001b[0;31m    def function a():\u001b[0m\n\u001b[0m                 ^\u001b[0m\n\u001b[0;31mSyntaxError\u001b[0m\u001b[0;31m:\u001b[0m invalid syntax\n"
          ]
        }
      ]
    },
    {
      "cell_type": "markdown",
      "source": [
        "### ตัวอย่าง Function ที่ไม่มี output"
      ],
      "metadata": {
        "id": "XNln20Y2JcnP"
      }
    },
    {
      "cell_type": "code",
      "source": [
        "def print_name_id(name,id):\n",
        "  print(f'ชื่อ {name} รหัสประจำตัว {id}')"
      ],
      "metadata": {
        "id": "WW6_G7ITJFMf"
      },
      "execution_count": null,
      "outputs": []
    },
    {
      "cell_type": "code",
      "source": [
        "print_name_id('วรเชษฐ์','623020449-0')"
      ],
      "metadata": {
        "colab": {
          "base_uri": "https://localhost:8080/"
        },
        "id": "ANmNHUkNJ1L0",
        "outputId": "f80ffa09-294b-480f-adec-e5bfeabf3672"
      },
      "execution_count": null,
      "outputs": [
        {
          "output_type": "stream",
          "name": "stdout",
          "text": [
            "ชื่อ วรเชษฐ์ รหัสประจำตัว 623020449-0\n"
          ]
        }
      ]
    },
    {
      "cell_type": "code",
      "source": [
        "a = print_name_id('วรเชษฐ์','623020449-0')"
      ],
      "metadata": {
        "colab": {
          "base_uri": "https://localhost:8080/"
        },
        "id": "FnDMu8HRJ1Hb",
        "outputId": "7b56d5b8-c1f3-445c-c2a0-8755a8a42f1d"
      },
      "execution_count": null,
      "outputs": [
        {
          "output_type": "stream",
          "name": "stdout",
          "text": [
            "ชื่อ วรเชษฐ์ รหัสประจำตัว 623020449-0\n"
          ]
        }
      ]
    },
    {
      "cell_type": "code",
      "source": [
        "print('วรเชษฐ์','623020449-0')"
      ],
      "metadata": {
        "colab": {
          "base_uri": "https://localhost:8080/"
        },
        "id": "XxXf3ZyWPcUE",
        "outputId": "c3eddf29-b0ab-4d79-d2ee-8a5e04d16b4b"
      },
      "execution_count": null,
      "outputs": [
        {
          "output_type": "stream",
          "name": "stdout",
          "text": [
            "วรเชษฐ์ 623020449-0\n"
          ]
        }
      ]
    },
    {
      "cell_type": "code",
      "source": [
        "print('วรเชษฐ์','623020449-0',sep=' & ')"
      ],
      "metadata": {
        "colab": {
          "base_uri": "https://localhost:8080/"
        },
        "id": "4iSh7MCJPkqx",
        "outputId": "481694d6-00ed-43aa-efe9-6b98e7ecf11a"
      },
      "execution_count": null,
      "outputs": [
        {
          "output_type": "stream",
          "name": "stdout",
          "text": [
            "วรเชษฐ์ & 623020449-0\n"
          ]
        }
      ]
    },
    {
      "cell_type": "markdown",
      "source": [
        "### ตัวอย่าง function print"
      ],
      "metadata": {
        "id": "I9EL_FKLOxwa"
      }
    },
    {
      "cell_type": "code",
      "source": [
        "print('วรเชษฐ์',end='->')\n",
        "print('623020449-0')"
      ],
      "metadata": {
        "colab": {
          "base_uri": "https://localhost:8080/"
        },
        "id": "US9dc888PAFu",
        "outputId": "f2c59be2-81c3-40e0-b6e3-1e04aad045ee"
      },
      "execution_count": null,
      "outputs": [
        {
          "output_type": "stream",
          "name": "stdout",
          "text": [
            "วรเชษฐ์->623020449-0\n"
          ]
        }
      ]
    },
    {
      "cell_type": "markdown",
      "source": [
        "## input ของ function แบ่งเป็น 2 ชนิด(จำเป็นต้องใส่ กับ ไม่จำเป็นต้องใส่)"
      ],
      "metadata": {
        "id": "01V-zL0bQFCG"
      }
    },
    {
      "cell_type": "markdown",
      "source": [
        "ตัวอย่าง function `print_grade()` มี input 3 ตัว จำเป็นต้องใส่ 2 ตัว คือ name กับ id และไม่จำเป็นต้องใส่ 1 ตัว คือเกรด ซึ่งมีค่า default เป็น F\n",
        "\n"
      ],
      "metadata": {
        "id": "FTXkVLH9RDbI"
      }
    },
    {
      "cell_type": "code",
      "source": [
        "def print_grade(name,id,grade = 'F'):\n",
        "    print(f'รหัสประจำตัว {id} ชื่อ {name}')\n",
        "    print(f'ได้เกรด {grade}')"
      ],
      "metadata": {
        "id": "oVX-lePsQEua"
      },
      "execution_count": null,
      "outputs": []
    },
    {
      "cell_type": "code",
      "source": [
        "print_grade('วรเชษฐ์ แก้วเกิด','623020449-0')"
      ],
      "metadata": {
        "colab": {
          "base_uri": "https://localhost:8080/"
        },
        "id": "5sikGVfmRmVM",
        "outputId": "d1618627-dc73-4d87-ba88-9409c78dbb8f"
      },
      "execution_count": null,
      "outputs": [
        {
          "output_type": "stream",
          "name": "stdout",
          "text": [
            "รหัสประจำตัว 623020449-0 ชื่อ วรเชษฐ์ แก้วเกิด\n",
            "ได้เกรด F\n"
          ]
        }
      ]
    },
    {
      "cell_type": "code",
      "source": [
        "print_grade('วรเชษฐ์ แก้วเกิด','623020449-0','A')"
      ],
      "metadata": {
        "colab": {
          "base_uri": "https://localhost:8080/"
        },
        "id": "VGO7Zx5nRvvn",
        "outputId": "1bc15672-ccea-477a-c1ae-d1a1ddef6903"
      },
      "execution_count": null,
      "outputs": [
        {
          "output_type": "stream",
          "name": "stdout",
          "text": [
            "รหัสประจำตัว 623020449-0 ชื่อ วรเชษฐ์ แก้วเกิด\n",
            "ได้เกรด A\n"
          ]
        }
      ]
    },
    {
      "cell_type": "code",
      "source": [
        "print_grade(id='623020449-0',name= 'worachet',grade='B')"
      ],
      "metadata": {
        "colab": {
          "base_uri": "https://localhost:8080/"
        },
        "id": "4al4lF-mR7nh",
        "outputId": "3ab8dd18-4460-4872-d1da-903e5010546e"
      },
      "execution_count": null,
      "outputs": [
        {
          "output_type": "stream",
          "name": "stdout",
          "text": [
            "รหัสประจำตัว 623020449-0 ชื่อ worachet\n",
            "ได้เกรด B\n"
          ]
        }
      ]
    },
    {
      "cell_type": "markdown",
      "source": [
        "# Looping (for)"
      ],
      "metadata": {
        "id": "NxuaCyixDl4N"
      }
    },
    {
      "cell_type": "markdown",
      "source": [
        "```python\n",
        "for member in listEx:\n",
        "  do_something()\n",
        "```\n",
        "\n"
      ],
      "metadata": {
        "id": "xyBuPwo-TVmx"
      }
    },
    {
      "cell_type": "code",
      "source": [
        "for member in [1,2,3,4,5,6]:\n",
        "  print(member)"
      ],
      "metadata": {
        "id": "vjamNLRTOJBN",
        "outputId": "98982e65-4b71-4a23-8bd1-9f15cd8bc07a",
        "colab": {
          "base_uri": "https://localhost:8080/"
        }
      },
      "execution_count": null,
      "outputs": [
        {
          "output_type": "stream",
          "name": "stdout",
          "text": [
            "1\n",
            "2\n",
            "3\n",
            "4\n",
            "5\n",
            "6\n"
          ]
        }
      ]
    },
    {
      "cell_type": "code",
      "source": [
        "def print_name(name):\n",
        "  print(f'ฉันชื่อ {name}')"
      ],
      "metadata": {
        "id": "uwx1DlVnOI4p"
      },
      "execution_count": null,
      "outputs": []
    },
    {
      "cell_type": "code",
      "source": [
        "for name in ['วรเชษฐ์','ญาดา','สุวรีย์','วีระพล','คำแสน']:\n",
        "  N = name\n",
        "  print_name(N)"
      ],
      "metadata": {
        "id": "tYpnQkWtVG8A",
        "outputId": "59737cd8-6fb7-4c04-a022-405fc161ebc2",
        "colab": {
          "base_uri": "https://localhost:8080/"
        }
      },
      "execution_count": null,
      "outputs": [
        {
          "output_type": "stream",
          "name": "stdout",
          "text": [
            "ฉันชื่อ วรเชษฐ์\n",
            "ฉันชื่อ ญาดา\n",
            "ฉันชื่อ สุวรีย์\n",
            "ฉันชื่อ วีระพล\n",
            "ฉันชื่อ คำแสน\n"
          ]
        }
      ]
    },
    {
      "cell_type": "code",
      "source": [
        "list_name_id_grade = [['เบญญาภา','28458','B'],\n",
        "                      ['เขมอัปสร','25464','A'],\n",
        "                      ['ปลายฟ้า','24846','B+']]\n"
      ],
      "metadata": {
        "id": "P06lzCobWT39"
      },
      "execution_count": null,
      "outputs": []
    },
    {
      "cell_type": "code",
      "source": [
        "for each in list_name_id_grade:\n",
        "  name = each[0]\n",
        "  id = each[1]\n",
        "  grade = each[2]\n",
        "  print_grade(name,id,grade)\n",
        "  print('-----------')"
      ],
      "metadata": {
        "id": "qjRfZr4gXNfh",
        "outputId": "c2008964-d5c8-4735-95e4-7ee56d3e0c32",
        "colab": {
          "base_uri": "https://localhost:8080/"
        }
      },
      "execution_count": null,
      "outputs": [
        {
          "output_type": "stream",
          "name": "stdout",
          "text": [
            "รหัสประจำตัว 28458 ชื่อ เบญญาภา\n",
            "ได้เกรด B\n",
            "-----------\n",
            "รหัสประจำตัว 25464 ชื่อ เขมอัปสร\n",
            "ได้เกรด A\n",
            "-----------\n",
            "รหัสประจำตัว 24846 ชื่อ ปลายฟ้า\n",
            "ได้เกรด B+\n",
            "-----------\n"
          ]
        }
      ]
    },
    {
      "cell_type": "markdown",
      "source": [
        "##ใช้ for loop เพิ่มสมาชิกใน list"
      ],
      "metadata": {
        "id": "YMf-eUciYT5J"
      }
    },
    {
      "cell_type": "code",
      "source": [
        "list_name = []\n",
        "list_id = []\n",
        "list_grade = []\n",
        "for each in list_name_id_grade:\n",
        "  list_name.append(each[0])\n",
        "  list_id.append(each[1])\n",
        "  list_grade.append(each[2])\n"
      ],
      "metadata": {
        "id": "BGZSmJR2YGeb"
      },
      "execution_count": null,
      "outputs": []
    },
    {
      "cell_type": "code",
      "source": [
        "list_name"
      ],
      "metadata": {
        "id": "zdMSWQq7YY7D",
        "outputId": "8ee16f0e-de21-4267-ee6c-dc9ab63cbb3c",
        "colab": {
          "base_uri": "https://localhost:8080/"
        }
      },
      "execution_count": null,
      "outputs": [
        {
          "output_type": "execute_result",
          "data": {
            "text/plain": [
              "['เบญญาภา', 'เขมอัปสร', 'ปลายฟ้า']"
            ]
          },
          "metadata": {},
          "execution_count": 28
        }
      ]
    },
    {
      "cell_type": "markdown",
      "source": [
        "### การวนลูปด้วย `range()`"
      ],
      "metadata": {
        "id": "WrB8TeqLbWSJ"
      }
    },
    {
      "cell_type": "code",
      "source": [
        "for i in range(100):\n",
        "  print('งง',end = ' ')"
      ],
      "metadata": {
        "id": "S3vQm_X-bVwm",
        "outputId": "d4c294fa-bdf9-4c78-cc3f-1c785e7bfc3f",
        "colab": {
          "base_uri": "https://localhost:8080/"
        }
      },
      "execution_count": null,
      "outputs": [
        {
          "output_type": "stream",
          "name": "stdout",
          "text": [
            "งง งง งง งง งง งง งง งง งง งง งง งง งง งง งง งง งง งง งง งง งง งง งง งง งง งง งง งง งง งง งง งง งง งง งง งง งง งง งง งง งง งง งง งง งง งง งง งง งง งง งง งง งง งง งง งง งง งง งง งง งง งง งง งง งง งง งง งง งง งง งง งง งง งง งง งง งง งง งง งง งง งง งง งง งง งง งง งง งง งง งง งง งง งง งง งง งง งง งง งง "
          ]
        }
      ]
    },
    {
      "cell_type": "markdown",
      "source": [
        "### Loop ซ้อน Loop"
      ],
      "metadata": {
        "id": "pPQFj46ucWyG"
      }
    },
    {
      "cell_type": "code",
      "source": [
        "for mem1 in range(2,5): #[2,3,4,]:\n",
        "  print(f'now mem1 = {mem1}')\n",
        "  for mem2 in range(1,13): #[1,2,3,4,5,6,7,8,9,10,11,12]\n",
        "    print(f'{mem1} x {mem2} = {mem1*mem2}')\n",
        "  print(f'end inner for mem1 = {mem1}') \n"
      ],
      "metadata": {
        "id": "gJn9nZfCccYI",
        "outputId": "bf35034f-d57c-4de5-89eb-641f3ab9941d",
        "colab": {
          "base_uri": "https://localhost:8080/"
        }
      },
      "execution_count": null,
      "outputs": [
        {
          "output_type": "stream",
          "name": "stdout",
          "text": [
            "now mem1 = 2\n",
            "2 x 1 = 2\n",
            "2 x 2 = 4\n",
            "2 x 3 = 6\n",
            "2 x 4 = 8\n",
            "2 x 5 = 10\n",
            "2 x 6 = 12\n",
            "2 x 7 = 14\n",
            "2 x 8 = 16\n",
            "2 x 9 = 18\n",
            "2 x 10 = 20\n",
            "2 x 11 = 22\n",
            "2 x 12 = 24\n",
            "end inner for mem1 = 2\n",
            "now mem1 = 3\n",
            "3 x 1 = 3\n",
            "3 x 2 = 6\n",
            "3 x 3 = 9\n",
            "3 x 4 = 12\n",
            "3 x 5 = 15\n",
            "3 x 6 = 18\n",
            "3 x 7 = 21\n",
            "3 x 8 = 24\n",
            "3 x 9 = 27\n",
            "3 x 10 = 30\n",
            "3 x 11 = 33\n",
            "3 x 12 = 36\n",
            "end inner for mem1 = 3\n",
            "now mem1 = 4\n",
            "4 x 1 = 4\n",
            "4 x 2 = 8\n",
            "4 x 3 = 12\n",
            "4 x 4 = 16\n",
            "4 x 5 = 20\n",
            "4 x 6 = 24\n",
            "4 x 7 = 28\n",
            "4 x 8 = 32\n",
            "4 x 9 = 36\n",
            "4 x 10 = 40\n",
            "4 x 11 = 44\n",
            "4 x 12 = 48\n",
            "end inner for mem1 = 4\n"
          ]
        }
      ]
    },
    {
      "cell_type": "markdown",
      "source": [
        "### Loop in Function"
      ],
      "metadata": {
        "id": "_y1VJD3Zf-e7"
      }
    },
    {
      "cell_type": "code",
      "source": [
        "def print_grade_loop(names,grades):\n",
        "  for n,g in zip(names,grades):\n",
        "    print(f'{n} ได้เกรด {g}')\n"
      ],
      "metadata": {
        "id": "UGiOAU_ugC0P"
      },
      "execution_count": null,
      "outputs": []
    },
    {
      "cell_type": "code",
      "source": [
        "print_grade_loop(list_name,list_grade)"
      ],
      "metadata": {
        "id": "2efcHhoxgsFz",
        "outputId": "61074a73-c85f-4773-8881-0b7005de203a",
        "colab": {
          "base_uri": "https://localhost:8080/"
        }
      },
      "execution_count": null,
      "outputs": [
        {
          "output_type": "stream",
          "name": "stdout",
          "text": [
            "เบญญาภา ได้เกรด B\n",
            "เขมอัปสร ได้เกรด A\n",
            "ปลายฟ้า ได้เกรด B+\n"
          ]
        }
      ]
    },
    {
      "cell_type": "markdown",
      "source": [
        "# Conditional Statement (if)"
      ],
      "metadata": {
        "id": "WRc8vA3TDotn"
      }
    },
    {
      "cell_type": "markdown",
      "source": [
        "```python\n",
        "if condition1:\n",
        "  do_somthing() ##ถ้า condition 1 เป็นจริงทำ do_something()\n",
        "elif condition2:\n",
        "  do_another_thing() ## ถ้า con1 ไม่เป็นจริงแต่ con2 เป็นจริง ทำ do_another_thing()\n",
        "else:\n",
        "  do_the_last_thing() ## ถ้าไม่มี con ไหนเป็นจริงเลยทำ do_the_last_thing()\n",
        "```\n",
        "\n"
      ],
      "metadata": {
        "id": "8VVzjQ7Kh74Q"
      }
    },
    {
      "cell_type": "code",
      "execution_count": null,
      "metadata": {
        "id": "zn1GU97MDcim",
        "outputId": "15fd88d4-16b8-4f5e-8c84-5939c64cea85",
        "colab": {
          "base_uri": "https://localhost:8080/"
        }
      },
      "outputs": [
        {
          "output_type": "stream",
          "name": "stdout",
          "text": [
            "เบญญาภา ได้เกรด F\n",
            "เขมอัปสร ได้เกรด A\n",
            "ปลายฟ้า ได้เกรด F\n"
          ]
        }
      ],
      "source": [
        "for n in list_name:\n",
        "  if len(n)>7:\n",
        "    print(f'{n} ได้เกรด A')\n",
        "  else:\n",
        "    print(f'{n} ได้เกรด F')"
      ]
    },
    {
      "cell_type": "markdown",
      "source": [
        "### operator ที่ใช้ตรวจสอบ condition\n",
        "\n",
        "==, !=,>=, <=, <, >, and, or"
      ],
      "metadata": {
        "id": "1ztXU7Y5kC6k"
      }
    },
    {
      "cell_type": "code",
      "source": [
        "a = 10 == 20\n",
        "print(a)"
      ],
      "metadata": {
        "id": "zaFXpJFRkCSG",
        "outputId": "21a6814b-4421-43c8-dbc9-973850d8bd08",
        "colab": {
          "base_uri": "https://localhost:8080/"
        }
      },
      "execution_count": null,
      "outputs": [
        {
          "output_type": "stream",
          "name": "stdout",
          "text": [
            "False\n"
          ]
        }
      ]
    },
    {
      "cell_type": "code",
      "source": [
        "b = 15 <= 20\n",
        "print(b)"
      ],
      "metadata": {
        "id": "VVgkPi14jylJ",
        "outputId": "9c52a523-7488-4ad1-9c0b-4a0b3c76305b",
        "colab": {
          "base_uri": "https://localhost:8080/"
        }
      },
      "execution_count": null,
      "outputs": [
        {
          "output_type": "stream",
          "name": "stdout",
          "text": [
            "True\n"
          ]
        }
      ]
    },
    {
      "cell_type": "code",
      "source": [
        "if a:\n",
        "  print('x')"
      ],
      "metadata": {
        "id": "GuQ4W4VLkv0D"
      },
      "execution_count": null,
      "outputs": []
    },
    {
      "cell_type": "code",
      "source": [
        "if True: #ตัวอักษรสีน้ำเงินคือตัวแปรพิเศษ\n",
        "  print('x')"
      ],
      "metadata": {
        "id": "1TNaNJPlk36p",
        "outputId": "3d1714f2-2169-4039-88c3-8fc0353e0416",
        "colab": {
          "base_uri": "https://localhost:8080/"
        }
      },
      "execution_count": null,
      "outputs": [
        {
          "output_type": "stream",
          "name": "stdout",
          "text": [
            "x\n"
          ]
        }
      ]
    },
    {
      "cell_type": "code",
      "source": [
        "if a and b:\n",
        "  print('x')"
      ],
      "metadata": {
        "id": "pNUu_3phlILF"
      },
      "execution_count": null,
      "outputs": []
    },
    {
      "cell_type": "code",
      "source": [
        "if a or b:\n",
        "  print('x')"
      ],
      "metadata": {
        "id": "lDG95TIZlT68",
        "outputId": "655d808c-a21c-46f5-ab22-73ff8b85185f",
        "colab": {
          "base_uri": "https://localhost:8080/"
        }
      },
      "execution_count": null,
      "outputs": [
        {
          "output_type": "stream",
          "name": "stdout",
          "text": [
            "x\n"
          ]
        }
      ]
    },
    {
      "cell_type": "markdown",
      "source": [
        "# HW\n",
        "เขียน function ตัดเกรดโดยที่ input เป็นคะแนน(0-100) , output เป็นเกรด (F-A) หรือ ไม่สามารถตัดเกรดได้\n",
        "\n",
        "วนลูปตัดเกรด input = [1,50,65,90,101,-5,49,'ก',80]\n",
        "\n",
        "กำหนด\n",
        "\n",
        "* ถ้าคะแนนอยู่ระหว่างมากกว่าหรือเท่ากับ 0 แต่น้อยกว่า 50 จะได้เกรด F\n",
        "* ถ้าคะแนนอยู่ระหว่างมากกว่าหรือเท่ากับ 50 แต่น้อยกว่า 55 จะได้เกรด D\n",
        "* ถ้าคะแนนอยู่ระหว่างมากกว่าหรือเท่ากับ 55 แต่น้อยกว่า 60 จะได้เกรด D+\n",
        "* ถ้าคะแนนอยู่ระหว่างมากกว่าหรือเท่ากับ 60 แต่น้อยกว่า 65 จะได้เกรด C\n",
        "* ถ้าคะแนนอยู่ระหว่างมากกว่าหรือเท่ากับ 65 แต่น้อยกว่า 70 จะได้เกรด C+\n",
        "* ถ้าคะแนนอยู่ระหว่างมากกว่าหรือเท่ากับ 70 แต่น้อยกว่า 75 จะได้เกรด B\n",
        "* ถ้าคะแนนอยู่ระหว่างมากกว่าหรือเท่ากับ 75 แต่น้อยกว่า 80 จะได้เกรด B+\n",
        "* ถ้าคะแนนอยู่ระหว่างมากกว่าหรือเท่ากับ 80 จะได้เกรด A\n",
        "* ถ้าคะแนนไม่อยู่ในช่วง 0-100 ให้ return 'ไม่สามารถตัดเกรดได้'"
      ],
      "metadata": {
        "id": "3BRh1wQUlr9R"
      }
    },
    {
      "cell_type": "code",
      "source": [
        "input = [1,50,65,90,101,-5,49,'ก',80]\n",
        "for i in input:\n",
        "  if type(i) == str:\n",
        "    print(f'คะแนน {i} ไม่สามารถตัดเกรดได้') \n",
        "  elif i >100:\n",
        "    print (f'คะแนน {i} ไม่สามารถตัดเกรดได้')\n",
        "  elif i >= 80:\n",
        "    print(f'คะแนน {i} ได้เกรด A')\n",
        "  elif i >= 75:\n",
        "    print(f'คะแนน {i} ได้เกรด B+')\n",
        "  elif i >= 70:\n",
        "    print(f'คะแนน {i} ได้เกรด B')\n",
        "  elif i >= 65:\n",
        "    print(f'คะแนน {i} ได้เกรด C+')\n",
        "  elif i >= 60:\n",
        "    print(f'คะแนน {i} ได้เกรด C')\n",
        "  elif i >= 55:\n",
        "    print(f'คะแนน {i} ได้เกรด D')\n",
        "  elif i >= 50:\n",
        "    print(f'คะแนน {i} ได้เกรด D')\n",
        "  elif i >= 0:\n",
        "    print(f'คะแนน {i} ได้เกรด F')\n",
        "  else:\n",
        "    print(f'คะแนน {i} ไม่สามารถตัดเกรดได้')"
      ],
      "metadata": {
        "colab": {
          "base_uri": "https://localhost:8080/"
        },
        "id": "O6IknCrF6m1m",
        "outputId": "27c16c3d-6050-49e5-cc70-481f10fdc7b7"
      },
      "execution_count": 21,
      "outputs": [
        {
          "output_type": "stream",
          "name": "stdout",
          "text": [
            "คะแนน 1 ได้เกรด F\n",
            "คะแนน 50 ได้เกรด D\n",
            "คะแนน 65 ได้เกรด C+\n",
            "คะแนน 90 ได้เกรด A\n",
            "คะแนน 101 ไม่สามารถตัดเกรดได้\n",
            "คะแนน -5 ไม่สามารถตัดเกรดได้\n",
            "คะแนน 49 ได้เกรด F\n",
            "คะแนน ก ไม่สามารถตัดเกรดได้\n",
            "คะแนน 80 ได้เกรด A\n"
          ]
        }
      ]
    },
    {
      "cell_type": "code",
      "source": [
        ""
      ],
      "metadata": {
        "id": "0TuF4t6c8Rad"
      },
      "execution_count": null,
      "outputs": []
    }
  ]
}