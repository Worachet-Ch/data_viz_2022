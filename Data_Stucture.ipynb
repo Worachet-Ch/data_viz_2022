{
  "nbformat": 4,
  "nbformat_minor": 0,
  "metadata": {
    "colab": {
      "name": "Data Stucture.ipynb",
      "provenance": [],
      "authorship_tag": "ABX9TyMX/jKI7NsAZbAe6im67Gr8",
      "include_colab_link": true
    },
    "kernelspec": {
      "name": "python3",
      "display_name": "Python 3"
    },
    "language_info": {
      "name": "python"
    }
  },
  "cells": [
    {
      "cell_type": "markdown",
      "metadata": {
        "id": "view-in-github",
        "colab_type": "text"
      },
      "source": [
        "<a href=\"https://colab.research.google.com/github/Worachet-Ch/data_viz_2022/blob/main/Data_Stucture.ipynb\" target=\"_parent\"><img src=\"https://colab.research.google.com/assets/colab-badge.svg\" alt=\"Open In Colab\"/></a>"
      ]
    },
    {
      "cell_type": "markdown",
      "source": [
        "# Data Structure (โครงสร้างข้อมูล)\n",
        "การเก็บข้อมูลหลายๆ ตัวไว้ด้วยกันอย่างเป็นระเบียบ"
      ],
      "metadata": {
        "id": "f6WwSKB053md"
      }
    },
    {
      "cell_type": "markdown",
      "source": [
        "## `list()`\n",
        "- เก็บง่ายที่สุด\n",
        "- เก็บอะไรก็ได้\n",
        "- ลำดับในการเก็บ มีความสำคัญ"
      ],
      "metadata": {
        "id": "Y0XI6wPY6VJ6"
      }
    },
    {
      "cell_type": "code",
      "execution_count": null,
      "metadata": {
        "id": "NOYxJedP4mZe"
      },
      "outputs": [],
      "source": [
        "list_a = [1,2,3,4,5,6] # use a [] , square brackets"
      ]
    },
    {
      "cell_type": "code",
      "source": [
        "list_a"
      ],
      "metadata": {
        "colab": {
          "base_uri": "https://localhost:8080/"
        },
        "id": "MoKmZJ9Z6m33",
        "outputId": "04ae80b6-d08a-4b60-8ccf-5461a200adee"
      },
      "execution_count": null,
      "outputs": [
        {
          "output_type": "execute_result",
          "data": {
            "text/plain": [
              "[1, 2, 3, 4, 5, 6]"
            ]
          },
          "metadata": {},
          "execution_count": 2
        }
      ]
    },
    {
      "cell_type": "code",
      "source": [
        "list_b = ['ab',2,3.14, list_a] #วิธีเก็บข้อมูลชนิดนึง"
      ],
      "metadata": {
        "id": "vRiT2usw6rYj"
      },
      "execution_count": null,
      "outputs": []
    },
    {
      "cell_type": "code",
      "source": [
        "list_b"
      ],
      "metadata": {
        "colab": {
          "base_uri": "https://localhost:8080/"
        },
        "id": "lVFfSI5F7ENr",
        "outputId": "0f7ccfb4-7a0c-44a6-cda9-970a18243841"
      },
      "execution_count": null,
      "outputs": [
        {
          "output_type": "execute_result",
          "data": {
            "text/plain": [
              "['ab', 2, 3.14, [1, 2, 3, 4, 5, 6]]"
            ]
          },
          "metadata": {},
          "execution_count": 13
        }
      ]
    },
    {
      "cell_type": "markdown",
      "source": [
        "### indexing การชี้สมาชิกใน list ด้วยเลขลำดับของ list"
      ],
      "metadata": {
        "id": "GvE0Mzr48RFS"
      }
    },
    {
      "cell_type": "code",
      "source": [
        "list_a[3]"
      ],
      "metadata": {
        "colab": {
          "base_uri": "https://localhost:8080/"
        },
        "id": "2h8h9HA27Fd3",
        "outputId": "d56b878e-836e-4619-9846-cbc85e7d0cf0"
      },
      "execution_count": null,
      "outputs": [
        {
          "output_type": "execute_result",
          "data": {
            "text/plain": [
              "4"
            ]
          },
          "metadata": {},
          "execution_count": 6
        }
      ]
    },
    {
      "cell_type": "code",
      "source": [
        "list_b[3]"
      ],
      "metadata": {
        "colab": {
          "base_uri": "https://localhost:8080/"
        },
        "id": "itNU6Zb37l75",
        "outputId": "6725e926-b37b-479a-af1f-21c8f82c53c0"
      },
      "execution_count": null,
      "outputs": [
        {
          "output_type": "execute_result",
          "data": {
            "text/plain": [
              "[1, 2, 3, 4, 5, 6]"
            ]
          },
          "metadata": {},
          "execution_count": 14
        }
      ]
    },
    {
      "cell_type": "code",
      "source": [
        "list_b[3][4]"
      ],
      "metadata": {
        "colab": {
          "base_uri": "https://localhost:8080/"
        },
        "id": "rr8ovRRl7tny",
        "outputId": "8214877a-dae1-4093-dd29-9bb2b1971f4b"
      },
      "execution_count": null,
      "outputs": [
        {
          "output_type": "execute_result",
          "data": {
            "text/plain": [
              "5"
            ]
          },
          "metadata": {},
          "execution_count": 17
        }
      ]
    },
    {
      "cell_type": "code",
      "source": [
        "list_a[6] #มันเกินตัวที่ข้อมูลมี"
      ],
      "metadata": {
        "colab": {
          "base_uri": "https://localhost:8080/",
          "height": 166
        },
        "id": "WApI75dJ7_99",
        "outputId": "e703b8af-4087-44a7-acf7-08f2966b9015"
      },
      "execution_count": null,
      "outputs": [
        {
          "output_type": "error",
          "ename": "IndexError",
          "evalue": "ignored",
          "traceback": [
            "\u001b[0;31m---------------------------------------------------------------------------\u001b[0m",
            "\u001b[0;31mIndexError\u001b[0m                                Traceback (most recent call last)",
            "\u001b[0;32m<ipython-input-18-d6b61775e813>\u001b[0m in \u001b[0;36m<module>\u001b[0;34m()\u001b[0m\n\u001b[0;32m----> 1\u001b[0;31m \u001b[0mlist_a\u001b[0m\u001b[0;34m[\u001b[0m\u001b[0;36m6\u001b[0m\u001b[0;34m]\u001b[0m\u001b[0;34m\u001b[0m\u001b[0;34m\u001b[0m\u001b[0m\n\u001b[0m",
            "\u001b[0;31mIndexError\u001b[0m: list index out of range"
          ]
        }
      ]
    },
    {
      "cell_type": "code",
      "source": [
        "list_a[-1] #index -1 คือตัวสุดท้ายของ list"
      ],
      "metadata": {
        "colab": {
          "base_uri": "https://localhost:8080/"
        },
        "id": "t1sMTwkt8i4V",
        "outputId": "043f6bd8-3b6a-4f9d-a0a2-d6cbd2ca45be"
      },
      "execution_count": null,
      "outputs": [
        {
          "output_type": "execute_result",
          "data": {
            "text/plain": [
              "6"
            ]
          },
          "metadata": {},
          "execution_count": 19
        }
      ]
    },
    {
      "cell_type": "code",
      "source": [
        "list_a[-4] # index -4 เป็นตัวที่3 "
      ],
      "metadata": {
        "colab": {
          "base_uri": "https://localhost:8080/"
        },
        "id": "qes09CwI81dU",
        "outputId": "d943d6eb-4bb8-472e-88bd-30c3b7ea9c9f"
      },
      "execution_count": null,
      "outputs": [
        {
          "output_type": "execute_result",
          "data": {
            "text/plain": [
              "3"
            ]
          },
          "metadata": {},
          "execution_count": 20
        }
      ]
    },
    {
      "cell_type": "markdown",
      "source": [
        "### การสร้าง `list()` \n"
      ],
      "metadata": {
        "id": "qeUr_qnM9dx-"
      }
    },
    {
      "cell_type": "code",
      "source": [
        "list_x1 = [] #แบบที่ 1 \n",
        "list_x2 = list() # แบบที่ 2 \n"
      ],
      "metadata": {
        "id": "HC3GihFs9J1h"
      },
      "execution_count": null,
      "outputs": []
    },
    {
      "cell_type": "code",
      "source": [
        "print(list_x1)\n",
        "print(list_x2)"
      ],
      "metadata": {
        "colab": {
          "base_uri": "https://localhost:8080/"
        },
        "id": "ZYpb6A4891B-",
        "outputId": "837a9796-92c0-42f0-9d59-a7a6a235ae2c"
      },
      "execution_count": null,
      "outputs": [
        {
          "output_type": "stream",
          "name": "stdout",
          "text": [
            "[]\n",
            "[]\n"
          ]
        }
      ]
    },
    {
      "cell_type": "markdown",
      "source": [
        "### เพิ่มสมาชิกเข้าไปใน list ด้วย `append()`"
      ],
      "metadata": {
        "id": "HfsTnjVr-Osz"
      }
    },
    {
      "cell_type": "code",
      "source": [
        "list_x1.append(2) #เป็นการเพิ่ม 2 ลงใน list"
      ],
      "metadata": {
        "id": "O_yUtFdL-HLq"
      },
      "execution_count": null,
      "outputs": []
    },
    {
      "cell_type": "code",
      "source": [
        "list_x1"
      ],
      "metadata": {
        "colab": {
          "base_uri": "https://localhost:8080/"
        },
        "id": "Sw7aO90A-j1j",
        "outputId": "ff5b0e0c-900c-4dd1-c282-ce691cac067a"
      },
      "execution_count": null,
      "outputs": [
        {
          "output_type": "execute_result",
          "data": {
            "text/plain": [
              "[2]"
            ]
          },
          "metadata": {},
          "execution_count": 24
        }
      ]
    },
    {
      "cell_type": "code",
      "source": [
        "list_x1.append(4) #ยิ่งกดรัน ตัวแปรยิ่งถูกใสเพิ่ม\n",
        "print(list_x1)"
      ],
      "metadata": {
        "colab": {
          "base_uri": "https://localhost:8080/"
        },
        "id": "YXbQUOem-mla",
        "outputId": "596afef0-94c1-448d-d7e2-985c8b26761e"
      },
      "execution_count": null,
      "outputs": [
        {
          "output_type": "stream",
          "name": "stdout",
          "text": [
            "[2, 4, 4, 4]\n"
          ]
        }
      ]
    },
    {
      "cell_type": "code",
      "source": [
        "list_x1[0]"
      ],
      "metadata": {
        "colab": {
          "base_uri": "https://localhost:8080/"
        },
        "id": "_hhhVZfw-8rx",
        "outputId": "89d3ea50-4413-4206-b875-3388104af175"
      },
      "execution_count": null,
      "outputs": [
        {
          "output_type": "execute_result",
          "data": {
            "text/plain": [
              "2"
            ]
          },
          "metadata": {},
          "execution_count": 28
        }
      ]
    },
    {
      "cell_type": "markdown",
      "source": [
        "### ลบสมาชิกใน list "
      ],
      "metadata": {
        "id": "540rxLGEAREs"
      }
    },
    {
      "cell_type": "code",
      "source": [
        "list_x2.append('ha')"
      ],
      "metadata": {
        "id": "jd_MIx5I_PVy"
      },
      "execution_count": null,
      "outputs": []
    },
    {
      "cell_type": "code",
      "source": [
        "list_x2"
      ],
      "metadata": {
        "colab": {
          "base_uri": "https://localhost:8080/"
        },
        "id": "VpqudI8h_vue",
        "outputId": "3293069e-6d59-427b-a41b-6be4c52e9d4d"
      },
      "execution_count": null,
      "outputs": [
        {
          "output_type": "execute_result",
          "data": {
            "text/plain": [
              "['ha', 'ha']"
            ]
          },
          "metadata": {},
          "execution_count": 32
        }
      ]
    },
    {
      "cell_type": "code",
      "source": [
        "list_x1.pop() #ลบสมาชิกตัวหลังสุด"
      ],
      "metadata": {
        "colab": {
          "base_uri": "https://localhost:8080/"
        },
        "id": "K02nI1-k_xmS",
        "outputId": "c9e56dba-56be-408a-a02a-68ca311cf974"
      },
      "execution_count": null,
      "outputs": [
        {
          "output_type": "execute_result",
          "data": {
            "text/plain": [
              "4"
            ]
          },
          "metadata": {},
          "execution_count": 33
        }
      ]
    },
    {
      "cell_type": "code",
      "source": [
        "list_x1"
      ],
      "metadata": {
        "colab": {
          "base_uri": "https://localhost:8080/"
        },
        "id": "GrKbMRlpAIxs",
        "outputId": "7baf60da-ba9d-49a7-a6ae-b667b6895cc5"
      },
      "execution_count": null,
      "outputs": [
        {
          "output_type": "execute_result",
          "data": {
            "text/plain": [
              "[2, 4, 4]"
            ]
          },
          "metadata": {},
          "execution_count": 34
        }
      ]
    },
    {
      "cell_type": "code",
      "source": [
        "list_x1.pop()\n",
        "print(list_x1)"
      ],
      "metadata": {
        "colab": {
          "base_uri": "https://localhost:8080/"
        },
        "id": "udRog0qSAMxv",
        "outputId": "c1ebaeaf-6425-423c-e49f-752a4ffeef04"
      },
      "execution_count": null,
      "outputs": [
        {
          "output_type": "stream",
          "name": "stdout",
          "text": [
            "[2, 4]\n"
          ]
        }
      ]
    },
    {
      "cell_type": "markdown",
      "source": [
        "### `len()` ตรวจสอบจำนวนสมาชิก"
      ],
      "metadata": {
        "id": "vQjrakp4B5d1"
      }
    },
    {
      "cell_type": "code",
      "source": [
        "print(list_b)\n",
        "print(len(list_b))"
      ],
      "metadata": {
        "colab": {
          "base_uri": "https://localhost:8080/"
        },
        "id": "wcXNPrp-AsLS",
        "outputId": "c9d70bf0-9c50-4e41-c6a7-68a7a77b7f68"
      },
      "execution_count": null,
      "outputs": [
        {
          "output_type": "stream",
          "name": "stdout",
          "text": [
            "['ab', 2, 3.14, [1, 2, 3, 4, 5, 6]]\n",
            "4\n"
          ]
        }
      ]
    },
    {
      "cell_type": "code",
      "source": [
        "len(list_a) "
      ],
      "metadata": {
        "colab": {
          "base_uri": "https://localhost:8080/"
        },
        "id": "7WHQj1HECJLS",
        "outputId": "975bfaed-377f-4aef-b7a9-3dc5329c205a"
      },
      "execution_count": null,
      "outputs": [
        {
          "output_type": "execute_result",
          "data": {
            "text/plain": [
              "6"
            ]
          },
          "metadata": {},
          "execution_count": 39
        }
      ]
    },
    {
      "cell_type": "markdown",
      "source": [
        "### String is a list of characters"
      ],
      "metadata": {
        "id": "GH1bof_HCdiA"
      }
    },
    {
      "cell_type": "code",
      "source": [
        "st_stat = 'Department of Statistics, Faculty of Science'"
      ],
      "metadata": {
        "id": "BSHtFJNZCTQb"
      },
      "execution_count": null,
      "outputs": []
    },
    {
      "cell_type": "code",
      "source": [
        "st_stat[10]"
      ],
      "metadata": {
        "colab": {
          "base_uri": "https://localhost:8080/",
          "height": 35
        },
        "id": "VEjOKLxtDGRQ",
        "outputId": "d37d87f6-bf86-4a85-8342-e759e31956a4"
      },
      "execution_count": null,
      "outputs": [
        {
          "output_type": "execute_result",
          "data": {
            "application/vnd.google.colaboratory.intrinsic+json": {
              "type": "string"
            },
            "text/plain": [
              "' '"
            ]
          },
          "metadata": {},
          "execution_count": 41
        }
      ]
    },
    {
      "cell_type": "code",
      "source": [
        "len(st_stat)"
      ],
      "metadata": {
        "colab": {
          "base_uri": "https://localhost:8080/"
        },
        "id": "IE0sMKG5DKr4",
        "outputId": "877a977d-ec3e-45fb-91ab-f7bfca94eb03"
      },
      "execution_count": null,
      "outputs": [
        {
          "output_type": "execute_result",
          "data": {
            "text/plain": [
              "44"
            ]
          },
          "metadata": {},
          "execution_count": 42
        }
      ]
    },
    {
      "cell_type": "markdown",
      "source": [
        "### List Slicing:"
      ],
      "metadata": {
        "id": "thH4x2bdDbnT"
      }
    },
    {
      "cell_type": "markdown",
      "source": [
        "-  `list[จุด เริ่มต้น (ทืบ) :จุดสุดท้าย (โปร่ง)]`\n",
        "- `list[จุดเริ่มต้น:จุดสุดท้าย:step]`"
      ],
      "metadata": {
        "id": "CLAzWk7oEUSB"
      }
    },
    {
      "cell_type": "code",
      "source": [
        "list_a"
      ],
      "metadata": {
        "colab": {
          "base_uri": "https://localhost:8080/"
        },
        "id": "oxyuI35dDPOi",
        "outputId": "3c00d001-b73c-4925-f936-4814ab948613"
      },
      "execution_count": null,
      "outputs": [
        {
          "output_type": "execute_result",
          "data": {
            "text/plain": [
              "[1, 2, 3, 4, 5, 6]"
            ]
          },
          "metadata": {},
          "execution_count": 43
        }
      ]
    },
    {
      "cell_type": "code",
      "source": [
        "list_a[2]"
      ],
      "metadata": {
        "colab": {
          "base_uri": "https://localhost:8080/"
        },
        "id": "kfFc9DXxDxKq",
        "outputId": "9d31e998-a82f-469b-f4cf-b967239ae1ab"
      },
      "execution_count": null,
      "outputs": [
        {
          "output_type": "execute_result",
          "data": {
            "text/plain": [
              "3"
            ]
          },
          "metadata": {},
          "execution_count": 44
        }
      ]
    },
    {
      "cell_type": "markdown",
      "source": [
        "### : colon"
      ],
      "metadata": {
        "id": "JD7MIj0VG5dp"
      }
    },
    {
      "cell_type": "code",
      "source": [
        "list_a[:4] #เอาตัวก่อนหน้าตำแหน่งที่ 4"
      ],
      "metadata": {
        "colab": {
          "base_uri": "https://localhost:8080/"
        },
        "id": "nMWzRxAJGYG2",
        "outputId": "01d1ddc5-d986-4bad-83a3-9e2b5e4f2f40"
      },
      "execution_count": null,
      "outputs": [
        {
          "output_type": "execute_result",
          "data": {
            "text/plain": [
              "[1, 2, 3, 4]"
            ]
          },
          "metadata": {},
          "execution_count": 50
        }
      ]
    },
    {
      "cell_type": "code",
      "source": [
        "list_a[-3:] # colon เอาจากตัวสุดท้าย นับถอยหลังไป 3 ตัว"
      ],
      "metadata": {
        "colab": {
          "base_uri": "https://localhost:8080/"
        },
        "id": "L19wGyi_D5R2",
        "outputId": "0b9b25b7-5461-40ba-ab58-d08611ab6026"
      },
      "execution_count": null,
      "outputs": [
        {
          "output_type": "execute_result",
          "data": {
            "text/plain": [
              "[4, 5, 6]"
            ]
          },
          "metadata": {},
          "execution_count": 46
        }
      ]
    },
    {
      "cell_type": "code",
      "source": [
        "list_a[1:4] # เริ่มจากตำแหน่ง 1(แต่ไม่เอา 1 ) ถึง 4"
      ],
      "metadata": {
        "colab": {
          "base_uri": "https://localhost:8080/"
        },
        "id": "m-zZngyxEMsb",
        "outputId": "b8c736ba-8f11-4ba0-baaf-4f359f6ff555"
      },
      "execution_count": null,
      "outputs": [
        {
          "output_type": "execute_result",
          "data": {
            "text/plain": [
              "[2, 3, 4]"
            ]
          },
          "metadata": {},
          "execution_count": 47
        }
      ]
    },
    {
      "cell_type": "code",
      "source": [
        "list_a[:]"
      ],
      "metadata": {
        "colab": {
          "base_uri": "https://localhost:8080/"
        },
        "id": "g7M6D-rAFudE",
        "outputId": "72b1ea04-8e71-44eb-adff-3f74128b9858"
      },
      "execution_count": null,
      "outputs": [
        {
          "output_type": "execute_result",
          "data": {
            "text/plain": [
              "[1, 2, 3, 4, 5, 6]"
            ]
          },
          "metadata": {},
          "execution_count": 51
        }
      ]
    },
    {
      "cell_type": "markdown",
      "source": [
        "### step"
      ],
      "metadata": {
        "id": "hqdJBNL6Gv4y"
      }
    },
    {
      "cell_type": "code",
      "source": [
        "list_c = [1,2,3,4,5,6,7,8,9,10,11,12]"
      ],
      "metadata": {
        "id": "zXeBSg4iGp-q"
      },
      "execution_count": null,
      "outputs": []
    },
    {
      "cell_type": "code",
      "source": [
        "list_c[:10:]"
      ],
      "metadata": {
        "colab": {
          "base_uri": "https://localhost:8080/"
        },
        "id": "O-tdevixHHNC",
        "outputId": "80b6f2ee-f2f2-4ce9-adcf-3fd9c3e2cc66"
      },
      "execution_count": null,
      "outputs": [
        {
          "output_type": "execute_result",
          "data": {
            "text/plain": [
              "[1, 2, 3, 4, 5, 6, 7, 8, 9, 10]"
            ]
          },
          "metadata": {},
          "execution_count": 55
        }
      ]
    },
    {
      "cell_type": "code",
      "source": [
        "list_c[:10:2] #เอาค่าถึงตำแหน่ง 10 และ ห่างกันตำแหน่งที่ 2"
      ],
      "metadata": {
        "colab": {
          "base_uri": "https://localhost:8080/"
        },
        "id": "y6PSBZszHKbo",
        "outputId": "0d45b2b9-ca54-4ef4-aa17-da37418ca7f2"
      },
      "execution_count": null,
      "outputs": [
        {
          "output_type": "execute_result",
          "data": {
            "text/plain": [
              "[1, 3, 5, 7, 9]"
            ]
          },
          "metadata": {},
          "execution_count": 56
        }
      ]
    },
    {
      "cell_type": "code",
      "source": [
        "list_c[::-1]"
      ],
      "metadata": {
        "colab": {
          "base_uri": "https://localhost:8080/"
        },
        "id": "A0Ve59rzHUQj",
        "outputId": "c744dfad-bbb8-4e1e-e772-35dd171ed623"
      },
      "execution_count": null,
      "outputs": [
        {
          "output_type": "execute_result",
          "data": {
            "text/plain": [
              "[12, 11, 10, 9, 8, 7, 6, 5, 4, 3, 2, 1]"
            ]
          },
          "metadata": {},
          "execution_count": 58
        }
      ]
    },
    {
      "cell_type": "markdown",
      "source": [
        "### `range()`"
      ],
      "metadata": {
        "id": "9R8OjI3UH0dl"
      }
    },
    {
      "cell_type": "code",
      "source": [
        "a= list(range(21))"
      ],
      "metadata": {
        "id": "4OPyYGMhHeBu"
      },
      "execution_count": null,
      "outputs": []
    },
    {
      "cell_type": "code",
      "source": [
        "a"
      ],
      "metadata": {
        "colab": {
          "base_uri": "https://localhost:8080/"
        },
        "id": "PsHNbLZeIMrw",
        "outputId": "11eeaee7-0bdb-4e1d-8fd9-b9a0104bf976"
      },
      "execution_count": null,
      "outputs": [
        {
          "output_type": "execute_result",
          "data": {
            "text/plain": [
              "[0, 1, 2, 3, 4, 5, 6, 7, 8, 9, 10, 11, 12, 13, 14, 15, 16, 17, 18, 19, 20]"
            ]
          },
          "metadata": {},
          "execution_count": 61
        }
      ]
    },
    {
      "cell_type": "code",
      "source": [
        "range(21) #เพิ่มเลขจะได้เลข0-21"
      ],
      "metadata": {
        "colab": {
          "base_uri": "https://localhost:8080/"
        },
        "id": "S0wrlj1CIIbk",
        "outputId": "7976e0f2-51d1-4f31-c26a-5af933378f49"
      },
      "execution_count": null,
      "outputs": [
        {
          "output_type": "execute_result",
          "data": {
            "text/plain": [
              "range(0, 21)"
            ]
          },
          "metadata": {},
          "execution_count": 62
        }
      ]
    },
    {
      "cell_type": "code",
      "source": [
        "list(range(1,21)) #กำหนดตั้งแต่ใส่เลข 1-21"
      ],
      "metadata": {
        "colab": {
          "base_uri": "https://localhost:8080/"
        },
        "id": "EFIX8sgvIS48",
        "outputId": "9ec768e3-e8db-4095-8c4e-35b2452bd15f"
      },
      "execution_count": null,
      "outputs": [
        {
          "output_type": "execute_result",
          "data": {
            "text/plain": [
              "[1, 2, 3, 4, 5, 6, 7, 8, 9, 10, 11, 12, 13, 14, 15, 16, 17, 18, 19, 20]"
            ]
          },
          "metadata": {},
          "execution_count": 63
        }
      ]
    },
    {
      "cell_type": "markdown",
      "source": [
        "### HW2 คำนวณเวลาเป็นวินาทีของเวลาต่อไปนี้โดยใช้คำสั่ง split() ช่วย (print ออกมาให้สวยงาม)\n",
        "- 12:30:15\n",
        "- 13:41:07\n",
        "- 09:11:50\n",
        "- 21:30:15\n",
        "- 03:10:15"
      ],
      "metadata": {
        "id": "lNNbT1OAI_Tp"
      }
    },
    {
      "cell_type": "code",
      "source": [
        "# EX 01:02:03\n",
        "\n",
        "a= (1*60*60) + (2*60)+(3)\n",
        "print(f'01:02:03 แปลงเป็นวินาทีได้ {a} วินาที')"
      ],
      "metadata": {
        "colab": {
          "base_uri": "https://localhost:8080/"
        },
        "id": "G5VEFzRFJhQo",
        "outputId": "d460f379-f343-4ef8-b562-32c6ee3d4b38"
      },
      "execution_count": null,
      "outputs": [
        {
          "output_type": "stream",
          "name": "stdout",
          "text": [
            "01:02:03 แปลงเป็นวินาทีได้ 3723 วินาที\n"
          ]
        }
      ]
    },
    {
      "cell_type": "code",
      "source": [
        "# 1.12:30:15\n",
        "a_1 = '12:30:15'.split(':') # สร้างตัวแปรที่เก็บข้อมูลที่แยกและใช้คำสั่ง split แยก : ออกมา\n",
        "ans1 = int(a_1[0])*60*60 + int(a_1[1])*60 + int(a_1[2]) # แปลงข้อมูลให้เป็น int (ไม่งั้นคำนวณไม่ได้) แล้วนำมา + กัน\n",
        "    # ตัวเลขที่นำมา * ต้องอยู่นอกวงเล็กตัวแปร ไม่งั้นจะเป็นการเอาค่าที่อยู่ในตำแหน่งนั้น * กับว่าจะเอาเพิ่มกี่ตัว\n",
        "print(f'เวลา 12:30:15 แปลงเป็นวินาทีได้เป็น {ans1} วินาที')"
      ],
      "metadata": {
        "id": "CmA7pjQNOuoY",
        "outputId": "a856546f-e4d6-484f-a901-52b6ec948e9b",
        "colab": {
          "base_uri": "https://localhost:8080/"
        }
      },
      "execution_count": null,
      "outputs": [
        {
          "output_type": "stream",
          "name": "stdout",
          "text": [
            "เวลา 12:30:15 แปลงเป็นวินาทีได้เป็น 45015 วินาที\n"
          ]
        }
      ]
    },
    {
      "cell_type": "code",
      "source": [
        "# 2. 13:41:07\n",
        "a_1 = '13:41:07'.split(':')  # สร้างตัวแปรที่เก็บข้อมูลที่แยกและใช้คำสั่ง split แยก : ออกมา\n",
        "ans1 = int(a_1[0])*60*60 + int(a_1[1])*60 + int(a_1[2])   # แปลงข้อมูลให้เป็น int (ไม่งั้นคำนวณไม่ได้) แล้วนำมา + กัน \n",
        " # ตัวเลขที่นำมา * ต้องอยู่นอกวงเล็กตัวแปร ไม่งั้นจะเป็นการเอาค่าที่อยู่ในตำแหน่งนั้น * กับว่าจะเอาเพิ่มกี่ตัว\n",
        "print(f'เวลา 13:41:07 แปลงเป็นวินาทีได้เป็น {ans1} วินาที')"
      ],
      "metadata": {
        "id": "j98nQAKATOC9",
        "outputId": "37b61715-d551-4ec0-f2ac-13fd02430491",
        "colab": {
          "base_uri": "https://localhost:8080/"
        }
      },
      "execution_count": null,
      "outputs": [
        {
          "output_type": "stream",
          "name": "stdout",
          "text": [
            "เวลา 13:41:07 แปลงเป็นวินาทีได้เป็น 49267 วินาที\n"
          ]
        }
      ]
    },
    {
      "cell_type": "code",
      "source": [
        "# 3. 09:11:50\n",
        "a_1 = '09:11:50'.split(':') # สร้างตัวแปรที่เก็บข้อมูลที่แยกและใช้คำสั่ง split แยก : ออกมา\n",
        "ans1 = int(a_1[0])*60*60 + int(a_1[1])*60 + int(a_1[2])  # แปลงข้อมูลให้เป็น int (ไม่งั้นคำนวณไม่ได้) แล้วนำมา + กัน \n",
        " # ตัวเลขที่นำมา * ต้องอยู่นอกวงเล็กตัวแปร ไม่งั้นจะเป็นการเอาค่าที่อยู่ในตำแหน่งนั้น * กับว่าจะเอาเพิ่มกี่ตัว\n",
        "print(f'เวลา 09:11:50 แปลงเป็นวินาทีได้เป็น {ans1} วินาที')"
      ],
      "metadata": {
        "colab": {
          "base_uri": "https://localhost:8080/"
        },
        "id": "UDbGj6Y4mY0k",
        "outputId": "af6011f8-2018-4390-8beb-27ab5a32078b"
      },
      "execution_count": null,
      "outputs": [
        {
          "output_type": "stream",
          "name": "stdout",
          "text": [
            "เวลา 09:11:50 แปลงเป็นวินาทีได้เป็น 33110 วินาที\n"
          ]
        }
      ]
    },
    {
      "cell_type": "code",
      "source": [
        "# 4. 21:30:15\n",
        "a_1 = '21:30:15'.split(':') # สร้างตัวแปรที่เก็บข้อมูลที่แยกและใช้คำสั่ง split แยก : ออกมา\n",
        "ans1 = int(a_1[0])*60*60 + int(a_1[1])*60 + int(a_1[2])  # แปลงข้อมูลให้เป็น int (ไม่งั้นคำนวณไม่ได้) แล้วนำมา + กัน \n",
        " # ตัวเลขที่นำมา * ต้องอยู่นอกวงเล็กตัวแปร ไม่งั้นจะเป็นการเอาค่าที่อยู่ในตำแหน่งนั้น * กับว่าจะเอาเพิ่มกี่ตัว\n",
        "print(f'เวลา 21:30:15 แปลงเป็นวินาทีได้เป็น {ans1} วินาที')"
      ],
      "metadata": {
        "id": "oDI5HZauTlYu",
        "outputId": "caf1910a-4c9c-446c-b9eb-283c1887593f",
        "colab": {
          "base_uri": "https://localhost:8080/"
        }
      },
      "execution_count": null,
      "outputs": [
        {
          "output_type": "stream",
          "name": "stdout",
          "text": [
            "เวลา 21:30:15 แปลงเป็นวินาทีได้เป็น 77415 วินาที\n"
          ]
        }
      ]
    },
    {
      "cell_type": "code",
      "source": [
        "# 5. 03:10:15\n",
        "a_1 = '03:10:15'.split(':') # สร้างตัวแปรที่เก็บข้อมูลที่แยกและใช้คำสั่ง split แยก : ออกมา\n",
        "ans1 = int(a_1[0])*60*60 + int(a_1[1])*60 + int(a_1[2]) # แปลงข้อมูลให้เป็น int (ไม่งั้นคำนวณไม่ได้) แล้วนำมา + กัน \n",
        " # ตัวเลขที่นำมา * ต้องอยู่นอกวงเล็กตัวแปร ไม่งั้นจะเป็นการเอาค่าที่อยู่ในตำแหน่งนั้น * กับว่าจะเอาเพิ่มกี่ตัว\n",
        "print(f'เวลา 03:10:15 แปลงเป็นวินาทีได้เป็น {ans1} วินาที')"
      ],
      "metadata": {
        "id": "maonkL2STnWU",
        "outputId": "7d90cf3a-1fe7-4305-ec51-5f6727be6bda",
        "colab": {
          "base_uri": "https://localhost:8080/"
        }
      },
      "execution_count": null,
      "outputs": [
        {
          "output_type": "stream",
          "name": "stdout",
          "text": [
            "เวลา 03:10:15 แปลงเป็นวินาทีได้เป็น 11415 วินาที\n"
          ]
        }
      ]
    },
    {
      "cell_type": "markdown",
      "source": [
        "## Dictionary"
      ],
      "metadata": {
        "id": "o2WgCfqNOnS_"
      }
    },
    {
      "cell_type": "markdown",
      "source": [
        "- คล้าย list()\n",
        "- indexเป็นอะไรก็ได้ไม่จำเป็นต้องเป็นตัวเลขลำดับ\n",
        "- ลำดับไม่มีความสำคัญ"
      ],
      "metadata": {
        "id": "dJ5WnxZXPLsB"
      }
    },
    {
      "cell_type": "markdown",
      "source": [
        "### สร้าง Dictionary"
      ],
      "metadata": {
        "id": "QGtrMzvMQ69b"
      }
    },
    {
      "cell_type": "markdown",
      "source": [
        "### การชี้ สมาชิกใน Dictionary"
      ],
      "metadata": {
        "id": "tmmidiJ1RA0P"
      }
    },
    {
      "cell_type": "code",
      "source": [
        "dict_a = {1:'Happy','N':'New','2022':'Year'} # {} curly brackets"
      ],
      "metadata": {
        "id": "lW7f4BvmPH6Y"
      },
      "execution_count": null,
      "outputs": []
    },
    {
      "cell_type": "code",
      "source": [
        "dict_a[1]"
      ],
      "metadata": {
        "id": "fTbAkyHHQPt9",
        "outputId": "71ecbb74-7b8c-40f5-f12e-fb9711025b0d",
        "colab": {
          "base_uri": "https://localhost:8080/",
          "height": 35
        }
      },
      "execution_count": null,
      "outputs": [
        {
          "output_type": "execute_result",
          "data": {
            "application/vnd.google.colaboratory.intrinsic+json": {
              "type": "string"
            },
            "text/plain": [
              "'Happy'"
            ]
          },
          "metadata": {},
          "execution_count": 2
        }
      ]
    },
    {
      "cell_type": "code",
      "source": [
        "dict_a['N']"
      ],
      "metadata": {
        "id": "nxjhmu6rQV8z",
        "outputId": "dd41eb1a-dc38-4fef-ced2-7de165c76634",
        "colab": {
          "base_uri": "https://localhost:8080/",
          "height": 35
        }
      },
      "execution_count": null,
      "outputs": [
        {
          "output_type": "execute_result",
          "data": {
            "application/vnd.google.colaboratory.intrinsic+json": {
              "type": "string"
            },
            "text/plain": [
              "'New'"
            ]
          },
          "metadata": {},
          "execution_count": 4
        }
      ]
    },
    {
      "cell_type": "code",
      "source": [
        "dict_a.keys() #ไว้ดู key ในการใช้เรียก"
      ],
      "metadata": {
        "id": "3MXooRuGQk2i",
        "outputId": "03524f8a-bbb8-46a9-cb71-b26655ba73d0",
        "colab": {
          "base_uri": "https://localhost:8080/"
        }
      },
      "execution_count": null,
      "outputs": [
        {
          "output_type": "execute_result",
          "data": {
            "text/plain": [
              "dict_keys([1, 'N', '2022'])"
            ]
          },
          "metadata": {},
          "execution_count": 5
        }
      ]
    },
    {
      "cell_type": "code",
      "source": [
        "dict_a.values() #ไว้ดู ค่า"
      ],
      "metadata": {
        "id": "Aw59vzhTQkrw",
        "outputId": "baa9c1ab-42ae-4113-ffe4-ff97f320877f",
        "colab": {
          "base_uri": "https://localhost:8080/"
        }
      },
      "execution_count": null,
      "outputs": [
        {
          "output_type": "execute_result",
          "data": {
            "text/plain": [
              "dict_values(['Happy', 'New', 'Year'])"
            ]
          },
          "metadata": {},
          "execution_count": 6
        }
      ]
    },
    {
      "cell_type": "markdown",
      "source": [
        "### การเพิ่มสมาชิกลงไปใน Dictionary"
      ],
      "metadata": {
        "id": "j62rE870RIHy"
      }
    },
    {
      "cell_type": "code",
      "source": [
        "dict_a[7] = 3.14 # อันหน้าคือ key อันหลังคือค่า values"
      ],
      "metadata": {
        "id": "cT_zqijrQkhC"
      },
      "execution_count": null,
      "outputs": []
    },
    {
      "cell_type": "code",
      "source": [
        "dict_a"
      ],
      "metadata": {
        "id": "AW2822kCRXf3",
        "outputId": "22743267-5c5d-4e55-b56d-981717cb34a5",
        "colab": {
          "base_uri": "https://localhost:8080/"
        }
      },
      "execution_count": null,
      "outputs": [
        {
          "output_type": "execute_result",
          "data": {
            "text/plain": [
              "{1: 'Happy', '2022': 'Year', 7: 3.14, 'N': 'New'}"
            ]
          },
          "metadata": {},
          "execution_count": 8
        }
      ]
    },
    {
      "cell_type": "code",
      "source": [
        "dict_a['N'] = 'fsfsfafsf'"
      ],
      "metadata": {
        "id": "ORpI1zMtRXWF"
      },
      "execution_count": null,
      "outputs": []
    },
    {
      "cell_type": "code",
      "source": [
        "dict_a\n"
      ],
      "metadata": {
        "id": "O8kD2BlZRp1z",
        "outputId": "578133b0-8f45-4bce-aa4f-7513d58bbdc1",
        "colab": {
          "base_uri": "https://localhost:8080/"
        }
      },
      "execution_count": null,
      "outputs": [
        {
          "output_type": "execute_result",
          "data": {
            "text/plain": [
              "{1: 'Happy', '2022': 'Year', 7: 3.14, 'N': 'fsfsfafsf'}"
            ]
          },
          "metadata": {},
          "execution_count": 10
        }
      ]
    },
    {
      "cell_type": "markdown",
      "source": [
        "## Numpy Array\n"
      ],
      "metadata": {
        "id": "Jj_jWW93Osxv"
      }
    },
    {
      "cell_type": "markdown",
      "source": [
        "- เก็บได้แต่ตัวเลข\n",
        "- อ้างอิงโดยใช้ พิกัด (2 มิติ ก็มองเป็น Martix)"
      ],
      "metadata": {
        "id": "Rk8cjTiMUWQq"
      }
    },
    {
      "cell_type": "markdown",
      "source": [
        "### 1D array"
      ],
      "metadata": {
        "id": "hHU4PrFOYGZr"
      }
    },
    {
      "cell_type": "code",
      "source": [
        "import numpy"
      ],
      "metadata": {
        "id": "kCy7c9A3PIhh"
      },
      "execution_count": 1,
      "outputs": []
    },
    {
      "cell_type": "code",
      "source": [
        "list_A = [1,2,3,4,5]"
      ],
      "metadata": {
        "id": "cndQLvJmVvTr"
      },
      "execution_count": 2,
      "outputs": []
    },
    {
      "cell_type": "code",
      "source": [
        "arr_a = numpy.array(list_A)"
      ],
      "metadata": {
        "id": "A57sXTiRVTyG"
      },
      "execution_count": 3,
      "outputs": []
    },
    {
      "cell_type": "code",
      "source": [
        "arr_a"
      ],
      "metadata": {
        "id": "Qjx4cMMrVTol",
        "outputId": "0977cc90-fad5-4256-ccb7-a37e2f096fde",
        "colab": {
          "base_uri": "https://localhost:8080/"
        }
      },
      "execution_count": 4,
      "outputs": [
        {
          "output_type": "execute_result",
          "data": {
            "text/plain": [
              "array([1, 2, 3, 4, 5])"
            ]
          },
          "metadata": {},
          "execution_count": 4
        }
      ]
    },
    {
      "cell_type": "code",
      "source": [
        "list_A"
      ],
      "metadata": {
        "id": "--1pL4YYVneR",
        "outputId": "31d3e958-8677-41e8-9ad7-2af1deaeec2d",
        "colab": {
          "base_uri": "https://localhost:8080/"
        }
      },
      "execution_count": 5,
      "outputs": [
        {
          "output_type": "execute_result",
          "data": {
            "text/plain": [
              "[1, 2, 3, 4, 5]"
            ]
          },
          "metadata": {},
          "execution_count": 5
        }
      ]
    },
    {
      "cell_type": "code",
      "source": [
        "arr_a[0]"
      ],
      "metadata": {
        "id": "Tj0Xh212Vmw9",
        "outputId": "9576baa6-691d-4454-8cb9-ab87113ac907",
        "colab": {
          "base_uri": "https://localhost:8080/"
        }
      },
      "execution_count": 6,
      "outputs": [
        {
          "output_type": "execute_result",
          "data": {
            "text/plain": [
              "1"
            ]
          },
          "metadata": {},
          "execution_count": 6
        }
      ]
    },
    {
      "cell_type": "code",
      "source": [
        "list_A[0]"
      ],
      "metadata": {
        "id": "-VGmgQ5jVnGe",
        "outputId": "8de889e3-95ef-44b8-8c41-d6cd158752f1",
        "colab": {
          "base_uri": "https://localhost:8080/"
        }
      },
      "execution_count": 7,
      "outputs": [
        {
          "output_type": "execute_result",
          "data": {
            "text/plain": [
              "1"
            ]
          },
          "metadata": {},
          "execution_count": 7
        }
      ]
    },
    {
      "cell_type": "code",
      "source": [
        "5 * arr_a # Matri (scalar multiplication)"
      ],
      "metadata": {
        "id": "WL96DElrWDg-",
        "outputId": "0d301116-a149-4452-fcbb-f6cee30c993e",
        "colab": {
          "base_uri": "https://localhost:8080/"
        }
      },
      "execution_count": 8,
      "outputs": [
        {
          "output_type": "execute_result",
          "data": {
            "text/plain": [
              "array([ 5, 10, 15, 20, 25])"
            ]
          },
          "metadata": {},
          "execution_count": 8
        }
      ]
    },
    {
      "cell_type": "code",
      "source": [
        "5 * list_A"
      ],
      "metadata": {
        "id": "eLbWu9wsWD8l",
        "outputId": "a85c4e66-20f6-4370-9ed0-307471155581",
        "colab": {
          "base_uri": "https://localhost:8080/"
        }
      },
      "execution_count": 9,
      "outputs": [
        {
          "output_type": "execute_result",
          "data": {
            "text/plain": [
              "[1, 2, 3, 4, 5, 1, 2, 3, 4, 5, 1, 2, 3, 4, 5, 1, 2, 3, 4, 5, 1, 2, 3, 4, 5]"
            ]
          },
          "metadata": {},
          "execution_count": 9
        }
      ]
    },
    {
      "cell_type": "code",
      "source": [
        "arr_b = numpy.array([10,20,30,40,50])"
      ],
      "metadata": {
        "id": "DbG4Iq8XXRm3"
      },
      "execution_count": 10,
      "outputs": []
    },
    {
      "cell_type": "code",
      "source": [
        "print(arr_a)"
      ],
      "metadata": {
        "id": "taxukLFMXc9H",
        "outputId": "97c45080-9620-4f2a-92db-41d530b5d0ce",
        "colab": {
          "base_uri": "https://localhost:8080/"
        }
      },
      "execution_count": 11,
      "outputs": [
        {
          "output_type": "stream",
          "name": "stdout",
          "text": [
            "[1 2 3 4 5]\n"
          ]
        }
      ]
    },
    {
      "cell_type": "code",
      "source": [
        "arr_a + arr_b"
      ],
      "metadata": {
        "id": "PJsp_TgKXd-m",
        "outputId": "9588e84f-fe18-44da-8a08-84ea2faacb9c",
        "colab": {
          "base_uri": "https://localhost:8080/"
        }
      },
      "execution_count": 12,
      "outputs": [
        {
          "output_type": "execute_result",
          "data": {
            "text/plain": [
              "array([11, 22, 33, 44, 55])"
            ]
          },
          "metadata": {},
          "execution_count": 12
        }
      ]
    },
    {
      "cell_type": "code",
      "source": [
        "arr_a.shape"
      ],
      "metadata": {
        "id": "LS2s8z4TZuVP",
        "outputId": "cfe91f14-8083-4742-a7ee-4f544959af46",
        "colab": {
          "base_uri": "https://localhost:8080/"
        }
      },
      "execution_count": 13,
      "outputs": [
        {
          "output_type": "execute_result",
          "data": {
            "text/plain": [
              "(5,)"
            ]
          },
          "metadata": {},
          "execution_count": 13
        }
      ]
    },
    {
      "cell_type": "markdown",
      "source": [
        "### 2D array"
      ],
      "metadata": {
        "id": "hW5pBdNZYBMQ"
      }
    },
    {
      "cell_type": "code",
      "source": [
        "import numpy as np"
      ],
      "metadata": {
        "id": "dpkzHuEAYTq5"
      },
      "execution_count": 14,
      "outputs": []
    },
    {
      "cell_type": "code",
      "source": [
        "arr2_z = np.array([[1,2,3],[4,5,6]])"
      ],
      "metadata": {
        "id": "l2vJmlaBX-JS"
      },
      "execution_count": 15,
      "outputs": []
    },
    {
      "cell_type": "code",
      "source": [
        "arr2_z"
      ],
      "metadata": {
        "id": "fEXd57CCYUC-",
        "outputId": "a791f144-0bd2-4cdf-b239-586522ae784f",
        "colab": {
          "base_uri": "https://localhost:8080/"
        }
      },
      "execution_count": 16,
      "outputs": [
        {
          "output_type": "execute_result",
          "data": {
            "text/plain": [
              "array([[1, 2, 3],\n",
              "       [4, 5, 6]])"
            ]
          },
          "metadata": {},
          "execution_count": 16
        }
      ]
    },
    {
      "cell_type": "code",
      "source": [
        "arr2_z.shape"
      ],
      "metadata": {
        "id": "vYjpzeIMZla3",
        "outputId": "1e551b16-6a06-476e-ad34-47eb2668c096",
        "colab": {
          "base_uri": "https://localhost:8080/"
        }
      },
      "execution_count": 17,
      "outputs": [
        {
          "output_type": "execute_result",
          "data": {
            "text/plain": [
              "(2, 3)"
            ]
          },
          "metadata": {},
          "execution_count": 17
        }
      ]
    },
    {
      "cell_type": "markdown",
      "source": [
        "### np.zeros()"
      ],
      "metadata": {
        "id": "KMdfNnUeZccq"
      }
    },
    {
      "cell_type": "code",
      "source": [
        "arr2_3_5_0 = np.zeros((3,5))"
      ],
      "metadata": {
        "id": "YfiibPukYUZI"
      },
      "execution_count": 18,
      "outputs": []
    },
    {
      "cell_type": "code",
      "source": [
        "arr2_3_5_0 "
      ],
      "metadata": {
        "id": "ucG_78pzZMTr",
        "outputId": "cb1deda9-d2eb-43df-8dcb-334ff16c627b",
        "colab": {
          "base_uri": "https://localhost:8080/"
        }
      },
      "execution_count": 19,
      "outputs": [
        {
          "output_type": "execute_result",
          "data": {
            "text/plain": [
              "array([[0., 0., 0., 0., 0.],\n",
              "       [0., 0., 0., 0., 0.],\n",
              "       [0., 0., 0., 0., 0.]])"
            ]
          },
          "metadata": {},
          "execution_count": 19
        }
      ]
    },
    {
      "cell_type": "code",
      "source": [
        "arr2_3_5_0[1,2] = 9"
      ],
      "metadata": {
        "id": "n8yJEfauZL1x"
      },
      "execution_count": 20,
      "outputs": []
    },
    {
      "cell_type": "code",
      "source": [
        ""
      ],
      "metadata": {
        "id": "FbsYwDfAdKyO"
      },
      "execution_count": 20,
      "outputs": []
    },
    {
      "cell_type": "code",
      "source": [
        "arr2_3_5_0"
      ],
      "metadata": {
        "id": "R0Tho-1rak2X",
        "outputId": "e433a805-ef8b-4b62-c479-63ab18da9b29",
        "colab": {
          "base_uri": "https://localhost:8080/"
        }
      },
      "execution_count": 21,
      "outputs": [
        {
          "output_type": "execute_result",
          "data": {
            "text/plain": [
              "array([[0., 0., 0., 0., 0.],\n",
              "       [0., 0., 9., 0., 0.],\n",
              "       [0., 0., 0., 0., 0.]])"
            ]
          },
          "metadata": {},
          "execution_count": 21
        }
      ]
    },
    {
      "cell_type": "code",
      "source": [
        "arr2_3_5_0[1,2]"
      ],
      "metadata": {
        "id": "s1Ztv4iFakao",
        "outputId": "215f5ffa-6eb9-4f73-b78e-a7d4c41f70b3",
        "colab": {
          "base_uri": "https://localhost:8080/"
        }
      },
      "execution_count": 22,
      "outputs": [
        {
          "output_type": "execute_result",
          "data": {
            "text/plain": [
              "9.0"
            ]
          },
          "metadata": {},
          "execution_count": 22
        }
      ]
    },
    {
      "cell_type": "code",
      "source": [
        "print(list_A) #เปลี่ยนค่าใน list()\n",
        "list_A[-1] = 'Christmas'\n",
        "print(list_A)"
      ],
      "metadata": {
        "id": "W69gRzKubiwk",
        "outputId": "5d3d2858-667d-46d8-93aa-7aec6b4de03c",
        "colab": {
          "base_uri": "https://localhost:8080/"
        }
      },
      "execution_count": 23,
      "outputs": [
        {
          "output_type": "stream",
          "name": "stdout",
          "text": [
            "[1, 2, 3, 4, 5]\n",
            "[1, 2, 3, 4, 'Christmas']\n"
          ]
        }
      ]
    },
    {
      "cell_type": "markdown",
      "source": [
        "### np.ones()"
      ],
      "metadata": {
        "id": "4n3TSlsob4EI"
      }
    },
    {
      "cell_type": "code",
      "source": [
        "arr2_4_5_1 = np.ones((4,5))"
      ],
      "metadata": {
        "id": "NjZSpHZmb__u"
      },
      "execution_count": 24,
      "outputs": []
    },
    {
      "cell_type": "code",
      "source": [
        "arr2_4_5_1"
      ],
      "metadata": {
        "id": "_sAyAH76b_1o",
        "outputId": "b9493a5b-9065-4687-9163-53cb90e9c901",
        "colab": {
          "base_uri": "https://localhost:8080/"
        }
      },
      "execution_count": 25,
      "outputs": [
        {
          "output_type": "execute_result",
          "data": {
            "text/plain": [
              "array([[1., 1., 1., 1., 1.],\n",
              "       [1., 1., 1., 1., 1.],\n",
              "       [1., 1., 1., 1., 1.],\n",
              "       [1., 1., 1., 1., 1.]])"
            ]
          },
          "metadata": {},
          "execution_count": 25
        }
      ]
    },
    {
      "cell_type": "code",
      "source": [
        "arr2_4_5_200 = 200*np.ones((4,5))"
      ],
      "metadata": {
        "id": "NfLhwlaTb_lb"
      },
      "execution_count": 26,
      "outputs": []
    },
    {
      "cell_type": "code",
      "source": [
        "arr2_4_5_200"
      ],
      "metadata": {
        "id": "5XgCeJX4cm7I",
        "outputId": "62782941-ea80-4238-beda-0cdcc8339174",
        "colab": {
          "base_uri": "https://localhost:8080/"
        }
      },
      "execution_count": 27,
      "outputs": [
        {
          "output_type": "execute_result",
          "data": {
            "text/plain": [
              "array([[200., 200., 200., 200., 200.],\n",
              "       [200., 200., 200., 200., 200.],\n",
              "       [200., 200., 200., 200., 200.],\n",
              "       [200., 200., 200., 200., 200.]])"
            ]
          },
          "metadata": {},
          "execution_count": 27
        }
      ]
    },
    {
      "cell_type": "markdown",
      "source": [
        "### Matrix operation"
      ],
      "metadata": {
        "id": "IrAlrzIDc0Fi"
      }
    },
    {
      "cell_type": "markdown",
      "source": [
        "การบวก ลบ matrix $M \\pm N $ บวกลบตัวที่อยู่ตำแหน่งเดียวกัน"
      ],
      "metadata": {
        "id": "czTQEQ4Yc8k5"
      }
    },
    {
      "cell_type": "code",
      "source": [
        "arr2_4_5_200 + arr2_3_5_0 # บวก ลบ matrix shape ต้องเท่ากัน"
      ],
      "metadata": {
        "id": "2dlow5KIc4ks",
        "outputId": "df59b3ac-8bac-41a5-b3ea-abd1cd0e3e1a",
        "colab": {
          "base_uri": "https://localhost:8080/",
          "height": 166
        }
      },
      "execution_count": 49,
      "outputs": [
        {
          "output_type": "error",
          "ename": "ValueError",
          "evalue": "ignored",
          "traceback": [
            "\u001b[0;31m---------------------------------------------------------------------------\u001b[0m",
            "\u001b[0;31mValueError\u001b[0m                                Traceback (most recent call last)",
            "\u001b[0;32m<ipython-input-49-e0516a00e834>\u001b[0m in \u001b[0;36m<module>\u001b[0;34m()\u001b[0m\n\u001b[0;32m----> 1\u001b[0;31m \u001b[0marr2_4_5_200\u001b[0m \u001b[0;34m+\u001b[0m \u001b[0marr2_3_5_0\u001b[0m \u001b[0;31m# บวก ลบ matrix shape ต้องเท่ากัน\u001b[0m\u001b[0;34m\u001b[0m\u001b[0;34m\u001b[0m\u001b[0m\n\u001b[0m",
            "\u001b[0;31mValueError\u001b[0m: operands could not be broadcast together with shapes (4,5) (3,5) "
          ]
        }
      ]
    },
    {
      "cell_type": "code",
      "source": [
        "arr2_4_5_200 + arr2_4_5_1"
      ],
      "metadata": {
        "id": "kgOcVADFdeMu",
        "outputId": "a1e23403-34bd-4c1d-f85a-9120849649fc",
        "colab": {
          "base_uri": "https://localhost:8080/"
        }
      },
      "execution_count": 50,
      "outputs": [
        {
          "output_type": "execute_result",
          "data": {
            "text/plain": [
              "array([[201., 201., 201., 201., 201.],\n",
              "       [201., 201., 201., 201., 201.],\n",
              "       [201., 201., 201., 201., 201.],\n",
              "       [201., 201., 201., 201., 201.]])"
            ]
          },
          "metadata": {},
          "execution_count": 50
        }
      ]
    },
    {
      "cell_type": "markdown",
      "source": [
        "### การคูณ matrix\n",
        "- $aM$ scalar คูณ Martrix (คูณกระจายเข้าไปทุกตัวของ Matrix)\n",
        "- $M\\times N$ Martrix คูณ Matrix (แถวคูณหลัก)"
      ],
      "metadata": {
        "id": "LEyGZv5OdiLM"
      }
    },
    {
      "cell_type": "markdown",
      "source": [
        "$aM$"
      ],
      "metadata": {
        "id": "585cptkHepZ-"
      }
    },
    {
      "cell_type": "code",
      "source": [
        "5 * arr_a # Matri (scalar multiplication)"
      ],
      "metadata": {
        "id": "fnwAwTKadd_L",
        "outputId": "8f2d8126-29bf-45b8-fc24-c55d73d3114b",
        "colab": {
          "base_uri": "https://localhost:8080/"
        }
      },
      "execution_count": 51,
      "outputs": [
        {
          "output_type": "execute_result",
          "data": {
            "text/plain": [
              "array([ 5, 10, 15, 20, 25])"
            ]
          },
          "metadata": {},
          "execution_count": 51
        }
      ]
    },
    {
      "cell_type": "markdown",
      "source": [
        "$M\\times N$ (dot product)\n",
        "- (m,n) $\\times$ (n,o) = (m,o) (Shape)"
      ],
      "metadata": {
        "id": "OeljlgluevNt"
      }
    },
    {
      "cell_type": "code",
      "source": [
        "mat_a = np.array([[2,3,5],[4,6,7]])\n",
        "mat_b = np.array([[1,3,5],[4,6,-7]])\n",
        "mat_c = np.array([[2,3],[4,6],[7,9]])"
      ],
      "metadata": {
        "id": "Ao2vMwI2fqOX"
      },
      "execution_count": 52,
      "outputs": []
    },
    {
      "cell_type": "code",
      "source": [
        "mat_a"
      ],
      "metadata": {
        "id": "HKwms2_HgM4y",
        "outputId": "266c0d2c-9f95-430d-a8db-25617d8db555",
        "colab": {
          "base_uri": "https://localhost:8080/"
        }
      },
      "execution_count": 53,
      "outputs": [
        {
          "output_type": "execute_result",
          "data": {
            "text/plain": [
              "array([[2, 3, 5],\n",
              "       [4, 6, 7]])"
            ]
          },
          "metadata": {},
          "execution_count": 53
        }
      ]
    },
    {
      "cell_type": "code",
      "source": [
        "mat_b"
      ],
      "metadata": {
        "id": "z6_yMTjNgMl8",
        "outputId": "e3c9eb13-02cf-43e3-e14d-a56cc916c325",
        "colab": {
          "base_uri": "https://localhost:8080/"
        }
      },
      "execution_count": 54,
      "outputs": [
        {
          "output_type": "execute_result",
          "data": {
            "text/plain": [
              "array([[ 1,  3,  5],\n",
              "       [ 4,  6, -7]])"
            ]
          },
          "metadata": {},
          "execution_count": 54
        }
      ]
    },
    {
      "cell_type": "code",
      "source": [
        "mat_c"
      ],
      "metadata": {
        "id": "hLMvArijgQgl",
        "outputId": "0ccef747-29fc-4725-a37f-ae3258c9d0b5",
        "colab": {
          "base_uri": "https://localhost:8080/"
        }
      },
      "execution_count": 55,
      "outputs": [
        {
          "output_type": "execute_result",
          "data": {
            "text/plain": [
              "array([[2, 3],\n",
              "       [4, 6],\n",
              "       [7, 9]])"
            ]
          },
          "metadata": {},
          "execution_count": 55
        }
      ]
    },
    {
      "cell_type": "markdown",
      "source": [
        "axc, bxc,"
      ],
      "metadata": {
        "id": "G746kJ_cgXYf"
      }
    },
    {
      "cell_type": "code",
      "source": [
        "np.dot(mat_a,mat_c)"
      ],
      "metadata": {
        "id": "NTLWeIX5gQdR",
        "outputId": "94644ed6-2b21-4784-fa98-9d65dfe46232",
        "colab": {
          "base_uri": "https://localhost:8080/"
        }
      },
      "execution_count": 56,
      "outputs": [
        {
          "output_type": "execute_result",
          "data": {
            "text/plain": [
              "array([[ 51,  69],\n",
              "       [ 81, 111]])"
            ]
          },
          "metadata": {},
          "execution_count": 56
        }
      ]
    },
    {
      "cell_type": "code",
      "source": [
        "np.dot(mat_b,mat_c)"
      ],
      "metadata": {
        "id": "J_DSOYK-hGV7",
        "outputId": "144444ab-50cd-4410-acc3-079f27b2089b",
        "colab": {
          "base_uri": "https://localhost:8080/"
        }
      },
      "execution_count": 57,
      "outputs": [
        {
          "output_type": "execute_result",
          "data": {
            "text/plain": [
              "array([[ 49,  66],\n",
              "       [-17, -15]])"
            ]
          },
          "metadata": {},
          "execution_count": 57
        }
      ]
    },
    {
      "cell_type": "markdown",
      "source": [
        "cxa,cxb"
      ],
      "metadata": {
        "id": "5oK5d8wkhBNn"
      }
    },
    {
      "cell_type": "code",
      "source": [
        "np.dot(mat_c,mat_a)"
      ],
      "metadata": {
        "id": "_gThnk0FgQMq",
        "outputId": "1c3b2a2f-b859-4656-8721-4b857dd8250e",
        "colab": {
          "base_uri": "https://localhost:8080/"
        }
      },
      "execution_count": 58,
      "outputs": [
        {
          "output_type": "execute_result",
          "data": {
            "text/plain": [
              "array([[16, 24, 31],\n",
              "       [32, 48, 62],\n",
              "       [50, 75, 98]])"
            ]
          },
          "metadata": {},
          "execution_count": 58
        }
      ]
    },
    {
      "cell_type": "code",
      "source": [
        "mat_X = np.dot(mat_c,mat_b)\n",
        "print(mat_X)"
      ],
      "metadata": {
        "id": "eCB_lSdthLqL",
        "outputId": "d71b3c33-2876-42c2-fb19-77e945f8f773",
        "colab": {
          "base_uri": "https://localhost:8080/"
        }
      },
      "execution_count": 59,
      "outputs": [
        {
          "output_type": "stream",
          "name": "stdout",
          "text": [
            "[[ 14  24 -11]\n",
            " [ 28  48 -22]\n",
            " [ 43  75 -28]]\n"
          ]
        }
      ]
    },
    {
      "cell_type": "code",
      "source": [
        "mat_a * mat_b #คูณตำแหน่งเดียวกัน"
      ],
      "metadata": {
        "id": "4TzMi2dzheud",
        "outputId": "b70d7853-d4a9-460c-bf5e-3018b0a9a412",
        "colab": {
          "base_uri": "https://localhost:8080/"
        }
      },
      "execution_count": 60,
      "outputs": [
        {
          "output_type": "execute_result",
          "data": {
            "text/plain": [
              "array([[  2,   9,  25],\n",
              "       [ 16,  36, -49]])"
            ]
          },
          "metadata": {},
          "execution_count": 60
        }
      ]
    },
    {
      "cell_type": "markdown",
      "source": [
        "### Matrix Slicing"
      ],
      "metadata": {
        "id": "0UuEBP06hwpl"
      }
    },
    {
      "cell_type": "code",
      "source": [
        "mat_X[:2,:2]"
      ],
      "metadata": {
        "id": "qpLmg3bZiE3B",
        "outputId": "2e746757-99e8-4107-97c9-974836789370",
        "colab": {
          "base_uri": "https://localhost:8080/"
        }
      },
      "execution_count": 61,
      "outputs": [
        {
          "output_type": "execute_result",
          "data": {
            "text/plain": [
              "array([[14, 24],\n",
              "       [28, 48]])"
            ]
          },
          "metadata": {},
          "execution_count": 61
        }
      ]
    },
    {
      "cell_type": "markdown",
      "source": [
        "HW 3 \n",
        "1. สร้าง array ที่เป็นรูป ต้น Christmas\n",
        "2. slica เลข 1 ออกมาจาก array HW3 ด้วยการ slice แค่ครั้งเดียว"
      ],
      "metadata": {
        "id": "I39u_QroibL5"
      }
    },
    {
      "cell_type": "code",
      "source": [
        "HW3 = np.zeros((10,10))\n",
        "HW3"
      ],
      "metadata": {
        "id": "f5lJ2aMTipLX",
        "outputId": "08338851-9629-4ddd-c967-16a11f9e104d",
        "colab": {
          "base_uri": "https://localhost:8080/"
        }
      },
      "execution_count": 69,
      "outputs": [
        {
          "output_type": "execute_result",
          "data": {
            "text/plain": [
              "array([[0., 0., 0., 0., 0., 0., 0., 0., 0., 0.],\n",
              "       [0., 0., 0., 0., 0., 0., 0., 0., 0., 0.],\n",
              "       [0., 0., 0., 0., 0., 0., 0., 0., 0., 0.],\n",
              "       [0., 0., 0., 0., 0., 0., 0., 0., 0., 0.],\n",
              "       [0., 0., 0., 0., 0., 0., 0., 0., 0., 0.],\n",
              "       [0., 0., 0., 0., 0., 0., 0., 0., 0., 0.],\n",
              "       [0., 0., 0., 0., 0., 0., 0., 0., 0., 0.],\n",
              "       [0., 0., 0., 0., 0., 0., 0., 0., 0., 0.],\n",
              "       [0., 0., 0., 0., 0., 0., 0., 0., 0., 0.],\n",
              "       [0., 0., 0., 0., 0., 0., 0., 0., 0., 0.]])"
            ]
          },
          "metadata": {},
          "execution_count": 69
        }
      ]
    },
    {
      "cell_type": "code",
      "source": [
        "HW3[::4,2] = 1 #คอลัมน์ 2 ห่างกัน 4 แถว\n",
        "HW3[::4,4] = 1\n",
        "HW3[::4,6] = 1\n",
        "HW3[::4,8] = 1\n",
        "HW3"
      ],
      "metadata": {
        "id": "GI2RKADpiFFz",
        "outputId": "f88f3254-d9a6-4a16-d8d4-dc2d00cbf4b7",
        "colab": {
          "base_uri": "https://localhost:8080/"
        }
      },
      "execution_count": 70,
      "outputs": [
        {
          "output_type": "execute_result",
          "data": {
            "text/plain": [
              "array([[0., 0., 1., 0., 1., 0., 1., 0., 1., 0.],\n",
              "       [0., 0., 0., 0., 0., 0., 0., 0., 0., 0.],\n",
              "       [0., 0., 0., 0., 0., 0., 0., 0., 0., 0.],\n",
              "       [0., 0., 0., 0., 0., 0., 0., 0., 0., 0.],\n",
              "       [0., 0., 1., 0., 1., 0., 1., 0., 1., 0.],\n",
              "       [0., 0., 0., 0., 0., 0., 0., 0., 0., 0.],\n",
              "       [0., 0., 0., 0., 0., 0., 0., 0., 0., 0.],\n",
              "       [0., 0., 0., 0., 0., 0., 0., 0., 0., 0.],\n",
              "       [0., 0., 1., 0., 1., 0., 1., 0., 1., 0.],\n",
              "       [0., 0., 0., 0., 0., 0., 0., 0., 0., 0.]])"
            ]
          },
          "metadata": {},
          "execution_count": 70
        }
      ]
    },
    {
      "cell_type": "code",
      "source": [
        "import numpy as np\n",
        "cr = np.ones((20,21))\n",
        "cr[:,10] = 0\n",
        "cr[1::,9] = 0\n",
        "cr[1::,11] = 0\n",
        "cr[2:3:,8:13] = 0\n",
        "cr[3:4:,7:14] = 0\n",
        "cr[4:5:,6:15] = 0\n",
        "cr[5:6:,5:16] = 0\n",
        "cr[6:7:,6:15] = 0\n",
        "cr[7:8:,7:14] = 0\n",
        "cr[8:9:,8:13] = 0\n",
        "cr[9:10:,7:14] = 0\n",
        "cr[10:11:,6:15] = 0\n",
        "cr[12:13:,5:16] = 0\n",
        "cr[13:14:,4:17] = 0\n",
        "cr[14:15:,3:18] = 0\n",
        "cr[15:16:,2:19] = 0\n",
        "print(cr)"
      ],
      "metadata": {
        "id": "3ltCuFG1aDxG",
        "outputId": "2924b712-9f46-4790-8689-88a9f1177d63",
        "colab": {
          "base_uri": "https://localhost:8080/"
        }
      },
      "execution_count": 64,
      "outputs": [
        {
          "output_type": "stream",
          "name": "stdout",
          "text": [
            "[[1. 1. 1. 1. 1. 1. 1. 1. 1. 1. 0. 1. 1. 1. 1. 1. 1. 1. 1. 1. 1.]\n",
            " [1. 1. 1. 1. 1. 1. 1. 1. 1. 0. 0. 0. 1. 1. 1. 1. 1. 1. 1. 1. 1.]\n",
            " [1. 1. 1. 1. 1. 1. 1. 1. 0. 0. 0. 0. 0. 1. 1. 1. 1. 1. 1. 1. 1.]\n",
            " [1. 1. 1. 1. 1. 1. 1. 0. 0. 0. 0. 0. 0. 0. 1. 1. 1. 1. 1. 1. 1.]\n",
            " [1. 1. 1. 1. 1. 1. 0. 0. 0. 0. 0. 0. 0. 0. 0. 1. 1. 1. 1. 1. 1.]\n",
            " [1. 1. 1. 1. 1. 0. 0. 0. 0. 0. 0. 0. 0. 0. 0. 0. 1. 1. 1. 1. 1.]\n",
            " [1. 1. 1. 1. 1. 1. 0. 0. 0. 0. 0. 0. 0. 0. 0. 1. 1. 1. 1. 1. 1.]\n",
            " [1. 1. 1. 1. 1. 1. 1. 0. 0. 0. 0. 0. 0. 0. 1. 1. 1. 1. 1. 1. 1.]\n",
            " [1. 1. 1. 1. 1. 1. 1. 1. 0. 0. 0. 0. 0. 1. 1. 1. 1. 1. 1. 1. 1.]\n",
            " [1. 1. 1. 1. 1. 1. 1. 0. 0. 0. 0. 0. 0. 0. 1. 1. 1. 1. 1. 1. 1.]\n",
            " [1. 1. 1. 1. 1. 1. 0. 0. 0. 0. 0. 0. 0. 0. 0. 1. 1. 1. 1. 1. 1.]\n",
            " [1. 1. 1. 1. 1. 1. 1. 1. 1. 0. 0. 0. 1. 1. 1. 1. 1. 1. 1. 1. 1.]\n",
            " [1. 1. 1. 1. 1. 0. 0. 0. 0. 0. 0. 0. 0. 0. 0. 0. 1. 1. 1. 1. 1.]\n",
            " [1. 1. 1. 1. 0. 0. 0. 0. 0. 0. 0. 0. 0. 0. 0. 0. 0. 1. 1. 1. 1.]\n",
            " [1. 1. 1. 0. 0. 0. 0. 0. 0. 0. 0. 0. 0. 0. 0. 0. 0. 0. 1. 1. 1.]\n",
            " [1. 1. 0. 0. 0. 0. 0. 0. 0. 0. 0. 0. 0. 0. 0. 0. 0. 0. 0. 1. 1.]\n",
            " [1. 1. 1. 1. 1. 1. 1. 1. 1. 0. 0. 0. 1. 1. 1. 1. 1. 1. 1. 1. 1.]\n",
            " [1. 1. 1. 1. 1. 1. 1. 1. 1. 0. 0. 0. 1. 1. 1. 1. 1. 1. 1. 1. 1.]\n",
            " [1. 1. 1. 1. 1. 1. 1. 1. 1. 0. 0. 0. 1. 1. 1. 1. 1. 1. 1. 1. 1.]\n",
            " [1. 1. 1. 1. 1. 1. 1. 1. 1. 0. 0. 0. 1. 1. 1. 1. 1. 1. 1. 1. 1.]]\n"
          ]
        }
      ]
    },
    {
      "cell_type": "code",
      "source": [
        "HW3[::4,2::2]"
      ],
      "metadata": {
        "id": "A_F9kkpRPCVy",
        "outputId": "94e5171e-7bae-484b-8f60-433a999b875f",
        "colab": {
          "base_uri": "https://localhost:8080/"
        }
      },
      "execution_count": 71,
      "outputs": [
        {
          "output_type": "execute_result",
          "data": {
            "text/plain": [
              "array([[1., 1., 1., 1.],\n",
              "       [1., 1., 1., 1.],\n",
              "       [1., 1., 1., 1.]])"
            ]
          },
          "metadata": {},
          "execution_count": 71
        }
      ]
    },
    {
      "cell_type": "markdown",
      "source": [
        "## Pandas Dataframe (แยกออกไปเป็น Notebook เฉพาะ)"
      ],
      "metadata": {
        "id": "Zc4nWsNCO4Aj"
      }
    },
    {
      "cell_type": "code",
      "source": [
        ""
      ],
      "metadata": {
        "id": "TGQgpn1vOxEB"
      },
      "execution_count": null,
      "outputs": []
    }
  ]
}